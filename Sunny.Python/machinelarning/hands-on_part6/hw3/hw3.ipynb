{
 "cells": [
  {
   "cell_type": "markdown",
   "metadata": {},
   "source": [
    "![alt text](./images/ML_01.jpg)"
   ]
  },
  {
   "cell_type": "markdown",
   "metadata": {},
   "source": [
    "![alt text](./images/ML_02.jpg)"
   ]
  },
  {
   "cell_type": "markdown",
   "metadata": {},
   "source": [
    "![alt text](./images/ML_03.jpg)"
   ]
  },
  {
   "cell_type": "markdown",
   "metadata": {},
   "source": [
    "![alt text](./images/ML_04.jpg)"
   ]
  },
  {
   "cell_type": "code",
   "execution_count": 1,
   "metadata": {},
   "outputs": [
    {
     "name": "stdout",
     "output_type": "stream",
     "text": [
      "(100, 240, 240)\n"
     ]
    }
   ],
   "source": [
    "import cv2\n",
    "import numpy as np\n",
    "import matplotlib.pyplot as plt\n",
    "\n",
    "# read image data \n",
    "s='./data/' \n",
    "num = 100\n",
    "row = 240\n",
    "col = 240\n",
    "images = np.zeros((num, row, col))\n",
    "\n",
    "# write your code here\n",
    "\n",
    "n = 0\n",
    "for i in range(0,10):\n",
    "    for j in range(1, 11):\n",
    "        images[n, :, :]=cv2.imread(s+str(i)+'/'+str(i)+'-'+str(j)+'.bmp',0 ) # 0 = read grayimg\n",
    "        n = n+1\n",
    "\n",
    "print(images.shape)  "
   ]
  },
  {
   "cell_type": "code",
   "execution_count": 7,
   "metadata": {},
   "outputs": [
    {
     "name": "stdout",
     "output_type": "stream",
     "text": [
      "(100, 6, 6)\n",
      "(100, 36)\n",
      "(100,)\n",
      "[0 0 0 0 0 0 0 0 0 0 1 1 1 1 1 1 1 1 1 1 2 2 2 2 2 2 2 2 2 2 3 3 3 3 3 3 3\n",
      " 3 3 3 4 4 4 4 4 4 4 4 4 4 5 5 5 5 5 5 5 5 5 5 6 6 6 6 6 6 6 6 6 6 7 7 7 7\n",
      " 7 7 7 7 7 7 8 8 8 8 8 8 8 8 8 8 9 9 9 9 9 9 9 9 9 9]\n"
     ]
    }
   ],
   "source": [
    "# extract each image as feature vector\n",
    "# use 6*6 grid to represent each origin image\n",
    "\n",
    "feature = np.zeros((num, round(row/40), round(col/40)))\n",
    "for num_i in range(0, num):\n",
    "    for num_row in range(0, row):\n",
    "        for num_col in range(0, col):\n",
    "            if images[num_i, num_row, num_col] == 0: # 0 = black \n",
    "                feature[num_i, int(num_row/40), int(num_col/40)] += 1\n",
    "\n",
    "dataset = feature[:,:].reshape(-1, round(row/40)*round(col/40)).astype(np.float32)\n",
    "labels = np.asarray([int(i/10) for i in range(0,100)])\n",
    "\n",
    "# write your code here\n",
    "\n",
    "# print(feature)\n",
    "print(feature.shape)\n",
    "print(dataset.shape)\n",
    "print(labels.shape)\n",
    "print(labels)\n",
    "\n",
    "\n"
   ]
  },
  {
   "cell_type": "code",
   "execution_count": 17,
   "metadata": {},
   "outputs": [
    {
     "name": "stdout",
     "output_type": "stream",
     "text": [
      "(60, 36)\n",
      "(60,)\n",
      "(40, 36)\n",
      "(40,)\n",
      "[4 3 5 9 8 5 0 6 5 5 2 7 1 9 1 6 1 2 8 4 6 0 3 1 9 4 9 9 3 3 5 6 2 3 0 2 9\n",
      " 1 9 2 4 4 3 2 5 7 4 3 9 7 7 9 1 5 4 4 2 6 7 3]\n"
     ]
    }
   ],
   "source": [
    "from sklearn import neighbors\n",
    "from sklearn.model_selection import train_test_split\n",
    "from sklearn import preprocessing\n",
    "from sklearn.metrics import accuracy_score, confusion_matrix\n",
    "\n",
    "# split data into training data and testing data\n",
    "# write your code here\n",
    "\n",
    "X_train, X_test, y_train, y_test = train_test_split(dataset, labels, test_size=0.4)\n",
    "\n",
    "\n",
    "print(X_train.shape)\n",
    "print(y_train.shape)\n",
    "\n",
    "print(X_test.shape)\n",
    "print(y_test.shape)\n",
    "\n",
    "print(y_train)"
   ]
  },
  {
   "cell_type": "code",
   "execution_count": 4,
   "metadata": {},
   "outputs": [
    {
     "name": "stdout",
     "output_type": "stream",
     "text": [
      "number of correct sample: 14\n",
      "accuracy: 0.7\n",
      "confusion matrix: [[2 0 0 0 0 0 0 0]\n",
      " [0 2 0 0 1 0 0 0]\n",
      " [0 0 3 0 0 0 0 0]\n",
      " [0 0 0 1 0 0 1 0]\n",
      " [0 0 0 2 2 0 0 0]\n",
      " [0 0 0 0 0 2 0 0]\n",
      " [0 1 0 0 0 0 1 0]\n",
      " [0 0 0 0 0 1 0 1]]\n"
     ]
    }
   ],
   "source": [
    "# build model and evaluate your result\n",
    "\n",
    "# write your code here\n"
   ]
  },
  {
   "cell_type": "code",
   "execution_count": null,
   "metadata": {},
   "outputs": [],
   "source": []
  }
 ],
 "metadata": {
  "kernelspec": {
   "display_name": "Python 3.10.7 64-bit",
   "language": "python",
   "name": "python3"
  },
  "language_info": {
   "codemirror_mode": {
    "name": "ipython",
    "version": 3
   },
   "file_extension": ".py",
   "mimetype": "text/x-python",
   "name": "python",
   "nbconvert_exporter": "python",
   "pygments_lexer": "ipython3",
   "version": "3.10.7"
  },
  "vscode": {
   "interpreter": {
    "hash": "26de051ba29f2982a8de78e945f0abaf191376122a1563185a90213a26c5da77"
   }
  }
 },
 "nbformat": 4,
 "nbformat_minor": 2
}
