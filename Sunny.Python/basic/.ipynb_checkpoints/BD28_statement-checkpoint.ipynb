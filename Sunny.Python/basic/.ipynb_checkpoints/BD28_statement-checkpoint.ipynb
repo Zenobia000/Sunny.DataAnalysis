{
 "cells": [
  {
   "cell_type": "markdown",
   "id": "d1613a5f-2ab0-4aa5-98f9-2049f8d47253",
   "metadata": {},
   "source": [
    "## Escape \\"
   ]
  },
  {
   "cell_type": "code",
   "execution_count": 2,
   "id": "1d5a3a62-de66-45ff-8d9c-a0465395febe",
   "metadata": {},
   "outputs": [],
   "source": [
    "total = 1 + 2 + \\\n",
    "3 + 4 + \\\n",
    "5 + 6"
   ]
  },
  {
   "cell_type": "code",
   "execution_count": 3,
   "id": "37903ffa-b0d5-4440-8c8c-559a95344f7e",
   "metadata": {},
   "outputs": [
    {
     "data": {
      "text/plain": [
       "21"
      ]
     },
     "execution_count": 3,
     "metadata": {},
     "output_type": "execute_result"
    }
   ],
   "source": [
    "total "
   ]
  },
  {
   "cell_type": "code",
   "execution_count": 9,
   "id": "5a80cec0-e3c9-4696-a143-a9631fa9c1fe",
   "metadata": {},
   "outputs": [],
   "source": [
    "# list 可以換行\n",
    "mylist = [2, 4, 6,\n",
    "          33, 6]"
   ]
  },
  {
   "cell_type": "code",
   "execution_count": 6,
   "id": "54443e01-7d95-42b0-959d-edec3bd44e99",
   "metadata": {},
   "outputs": [
    {
     "data": {
      "text/plain": [
       "[2, 4, 6, 33, 6]"
      ]
     },
     "execution_count": 6,
     "metadata": {},
     "output_type": "execute_result"
    }
   ],
   "source": [
    "mylist"
   ]
  },
  {
   "cell_type": "code",
   "execution_count": 8,
   "id": "4f4f4b3d-fb78-486c-b12e-01faa94ad7f1",
   "metadata": {},
   "outputs": [
    {
     "ename": "SyntaxError",
     "evalue": "unterminated string literal (detected at line 2) (2686055633.py, line 2)",
     "output_type": "error",
     "traceback": [
      "\u001b[1;36m  Cell \u001b[1;32mIn [8], line 2\u001b[1;36m\u001b[0m\n\u001b[1;33m    mystr = \"this is\u001b[0m\n\u001b[1;37m            ^\u001b[0m\n\u001b[1;31mSyntaxError\u001b[0m\u001b[1;31m:\u001b[0m unterminated string literal (detected at line 2)\n"
     ]
    }
   ],
   "source": [
    "# string 不能換行\n",
    "mystr = \"this is\n",
    "        a book\""
   ]
  },
  {
   "cell_type": "markdown",
   "id": "2acdeb58-a287-4752-8b22-9cad185e28ef",
   "metadata": {},
   "source": [
    "## k8s 設定檔 yaml, yml 習慣空兩格 (google 主導)"
   ]
  },
  {
   "cell_type": "code",
   "execution_count": 21,
   "id": "056059ab-408d-49b3-9b09-6e18554c66e1",
   "metadata": {},
   "outputs": [],
   "source": [
    "   x = 33\n",
    "# notebook 允許單一敘述隨便空格, 互動式介面不行"
   ]
  },
  {
   "cell_type": "code",
   "execution_count": 18,
   "id": "852b5b8a-6cdf-4c92-989f-8f4d9a1e86ba",
   "metadata": {},
   "outputs": [
    {
     "ename": "IndentationError",
     "evalue": "unexpected indent (3047283650.py, line 3)",
     "output_type": "error",
     "traceback": [
      "\u001b[1;36m  Cell \u001b[1;32mIn [18], line 3\u001b[1;36m\u001b[0m\n\u001b[1;33m    b = 111\u001b[0m\n\u001b[1;37m    ^\u001b[0m\n\u001b[1;31mIndentationError\u001b[0m\u001b[1;31m:\u001b[0m unexpected indent\n"
     ]
    }
   ],
   "source": [
    "# notebook 不允許不一致換行空格\n",
    "a = 77\n",
    "    b = 111"
   ]
  },
  {
   "cell_type": "code",
   "execution_count": 19,
   "id": "35575bd4-440c-47b1-afab-202e721e3833",
   "metadata": {},
   "outputs": [],
   "source": [
    "a = 77\n",
    "b = 111"
   ]
  },
  {
   "cell_type": "markdown",
   "id": "5224201b-b6ca-4ad6-a522-398bb8f47bfc",
   "metadata": {},
   "source": [
    "## python 的檔名就是模組名稱"
   ]
  },
  {
   "cell_type": "markdown",
   "id": "ea5a06d0-9303-4310-a6d3-2739808193fc",
   "metadata": {},
   "source": [
    "## if statement"
   ]
  },
  {
   "cell_type": "code",
   "execution_count": 23,
   "id": "50cac3d9-60c7-4b7f-a562-c76cdac50843",
   "metadata": {},
   "outputs": [],
   "source": [
    "num = 6"
   ]
  },
  {
   "cell_type": "code",
   "execution_count": 24,
   "id": "fb3f6b17-0d47-4d95-9e6e-b50fac8c4f6d",
   "metadata": {},
   "outputs": [
    {
     "data": {
      "text/plain": [
       "True"
      ]
     },
     "execution_count": 24,
     "metadata": {},
     "output_type": "execute_result"
    }
   ],
   "source": [
    "num%2 == 0"
   ]
  },
  {
   "cell_type": "code",
   "execution_count": 28,
   "id": "adfed03d-3f9f-4068-b054-f96f7e3bdeeb",
   "metadata": {},
   "outputs": [
    {
     "data": {
      "text/plain": [
       "True"
      ]
     },
     "execution_count": 28,
     "metadata": {},
     "output_type": "execute_result"
    }
   ],
   "source": [
    "# 單一運算 比 二元運算快\n",
    "not num%2"
   ]
  },
  {
   "cell_type": "code",
   "execution_count": 26,
   "id": "3ac66238-705a-4206-a2ad-c456e7439f85",
   "metadata": {},
   "outputs": [
    {
     "data": {
      "text/plain": [
       "False"
      ]
     },
     "execution_count": 26,
     "metadata": {},
     "output_type": "execute_result"
    }
   ],
   "source": [
    "num%2 != 0"
   ]
  },
  {
   "cell_type": "code",
   "execution_count": 27,
   "id": "506fd2ed-356e-4ae7-9b03-b57fbf35872d",
   "metadata": {},
   "outputs": [
    {
     "data": {
      "text/plain": [
       "0"
      ]
     },
     "execution_count": 27,
     "metadata": {},
     "output_type": "execute_result"
    }
   ],
   "source": [
    "num%2"
   ]
  },
  {
   "cell_type": "code",
   "execution_count": 30,
   "id": "b656ed83-34bb-45cf-a3a1-784ddcb50749",
   "metadata": {},
   "outputs": [
    {
     "name": "stdin",
     "output_type": "stream",
     "text": [
      "pleae input num :  21\n"
     ]
    }
   ],
   "source": [
    "### 三元運算子，取代簡單的if else statement\n",
    "num = eval(input(\"pleae input num : \"))"
   ]
  },
  {
   "cell_type": "code",
   "execution_count": 31,
   "id": "608adbd2-3091-40f8-9e5e-cfc7ef457ce4",
   "metadata": {},
   "outputs": [
    {
     "data": {
      "text/plain": [
       "21"
      ]
     },
     "execution_count": 31,
     "metadata": {},
     "output_type": "execute_result"
    }
   ],
   "source": [
    "num"
   ]
  },
  {
   "cell_type": "code",
   "execution_count": 33,
   "id": "d14c0225-d82f-438c-9aed-1675f886f66a",
   "metadata": {},
   "outputs": [
    {
     "name": "stdout",
     "output_type": "stream",
     "text": [
      "-9\n"
     ]
    }
   ],
   "source": [
    "# single statement suites\n",
    "if num > 60: print(num+30)\n",
    "else: print(num-30)"
   ]
  },
  {
   "cell_type": "code",
   "execution_count": 34,
   "id": "418ffcae-a3a4-4195-976c-8b08ecb66ba0",
   "metadata": {},
   "outputs": [
    {
     "name": "stdout",
     "output_type": "stream",
     "text": [
      "-9\n"
     ]
    }
   ],
   "source": [
    "print(num+30) if num>60 else print(num-30)"
   ]
  },
  {
   "cell_type": "markdown",
   "id": "61923356-a2b4-498a-9ed5-7b9afa7a6402",
   "metadata": {},
   "source": [
    "## 評估速度效能"
   ]
  },
  {
   "cell_type": "code",
   "execution_count": 39,
   "id": "4d439596-416e-4b7b-9b45-b8e84fc4524b",
   "metadata": {},
   "outputs": [
    {
     "name": "stdout",
     "output_type": "stream",
     "text": [
      "81.1 ns ± 0.745 ns per loop (mean ± std. dev. of 7 runs, 10,000,000 loops each)\n"
     ]
    }
   ],
   "source": [
    "%%timeit\n",
    "if num > 60:\n",
    "    res = num + 30\n",
    "else:\n",
    "    res = num - 30"
   ]
  },
  {
   "cell_type": "code",
   "execution_count": 36,
   "id": "f7fec8e4-8413-4fec-a6e3-b6c5b1b0e62c",
   "metadata": {},
   "outputs": [
    {
     "data": {
      "text/plain": [
       "-9"
      ]
     },
     "execution_count": 36,
     "metadata": {},
     "output_type": "execute_result"
    }
   ],
   "source": [
    "res"
   ]
  },
  {
   "cell_type": "code",
   "execution_count": 40,
   "id": "6e2276e0-098c-4bdf-a495-c68dcf32fc32",
   "metadata": {},
   "outputs": [
    {
     "name": "stdout",
     "output_type": "stream",
     "text": [
      "81.8 ns ± 1.38 ns per loop (mean ± std. dev. of 7 runs, 10,000,000 loops each)\n"
     ]
    }
   ],
   "source": [
    "%%timeit\n",
    "res2 = num+30 if num>60 else num-30 "
   ]
  },
  {
   "cell_type": "code",
   "execution_count": 38,
   "id": "c03da393-3646-4926-b267-c323d6fd7d8d",
   "metadata": {},
   "outputs": [
    {
     "data": {
      "text/plain": [
       "-9"
      ]
     },
     "execution_count": 38,
     "metadata": {},
     "output_type": "execute_result"
    }
   ],
   "source": [
    "res2"
   ]
  },
  {
   "cell_type": "code",
   "execution_count": 41,
   "id": "343faf5d-2fdc-4756-a0e7-a1e147c7bd76",
   "metadata": {},
   "outputs": [
    {
     "data": {
      "text/plain": [
       "True"
      ]
     },
     "execution_count": 41,
     "metadata": {},
     "output_type": "execute_result"
    }
   ],
   "source": [
    "77.5 > 44"
   ]
  },
  {
   "cell_type": "code",
   "execution_count": 43,
   "id": "f7118278-b618-48b5-b047-211b3323ebc2",
   "metadata": {},
   "outputs": [],
   "source": [
    "num=eval(\"77.4\")"
   ]
  },
  {
   "cell_type": "code",
   "execution_count": 44,
   "id": "34b45e18-11d6-4aae-b366-cb1c69cad8d1",
   "metadata": {},
   "outputs": [
    {
     "data": {
      "text/plain": [
       "float"
      ]
     },
     "execution_count": 44,
     "metadata": {},
     "output_type": "execute_result"
    }
   ],
   "source": [
    "type(num)"
   ]
  },
  {
   "cell_type": "markdown",
   "id": "f99b10ec-8457-4d8e-9e08-aba6c493e0c0",
   "metadata": {},
   "source": [
    "## 交換"
   ]
  },
  {
   "cell_type": "code",
   "execution_count": 53,
   "id": "2c99897e-7332-41c2-826f-d7acc2c70042",
   "metadata": {},
   "outputs": [
    {
     "name": "stdout",
     "output_type": "stream",
     "text": [
      "56.7 ns ± 4.15 ns per loop (mean ± std. dev. of 7 runs, 10,000,000 loops each)\n"
     ]
    }
   ],
   "source": [
    "%%timeit\n",
    "a = 44\n",
    "b = 123\n",
    "a,b = b,a"
   ]
  },
  {
   "cell_type": "code",
   "execution_count": 52,
   "id": "b4928e9e-0812-45ba-b95b-2160c519aa2b",
   "metadata": {},
   "outputs": [
    {
     "name": "stdout",
     "output_type": "stream",
     "text": [
      "66.6 ns ± 16.3 ns per loop (mean ± std. dev. of 7 runs, 10,000,000 loops each)\n"
     ]
    }
   ],
   "source": [
    "%%timeit\n",
    "a = 44\n",
    "b = 123\n",
    "temp = a\n",
    "a = b\n",
    "b = temp"
   ]
  },
  {
   "cell_type": "code",
   "execution_count": 48,
   "id": "33b9d9be-1557-4afa-81a0-9fe422149141",
   "metadata": {},
   "outputs": [
    {
     "data": {
      "text/plain": [
       "123"
      ]
     },
     "execution_count": 48,
     "metadata": {},
     "output_type": "execute_result"
    }
   ],
   "source": [
    "a"
   ]
  },
  {
   "cell_type": "code",
   "execution_count": 49,
   "id": "4bc5287c-7a96-4eb1-9eec-d3d725946394",
   "metadata": {},
   "outputs": [
    {
     "data": {
      "text/plain": [
       "44"
      ]
     },
     "execution_count": 49,
     "metadata": {},
     "output_type": "execute_result"
    }
   ],
   "source": [
    "b"
   ]
  },
  {
   "cell_type": "code",
   "execution_count": 60,
   "id": "c1897e52-7b4a-4bdf-b2a6-4eda2ae59433",
   "metadata": {},
   "outputs": [
    {
     "name": "stdout",
     "output_type": "stream",
     "text": [
      "3.2352\n"
     ]
    }
   ],
   "source": [
    "a = 3.235235\n",
    "print(f\"{a:3.4f}\")"
   ]
  },
  {
   "cell_type": "code",
   "execution_count": 61,
   "id": "34f14a77-a987-4713-b045-41a75052df4e",
   "metadata": {},
   "outputs": [
    {
     "name": "stdout",
     "output_type": "stream",
     "text": [
      "P I F"
     ]
    }
   ],
   "source": [
    "# continue stmt\n",
    "data='Python Is Funny'\n",
    "\n",
    "for ch in data:\n",
    "    if ch!=ch.upper(): \n",
    "        continue \n",
    "    print(ch, end='')"
   ]
  },
  {
   "cell_type": "code",
   "execution_count": null,
   "id": "21320a2d-27f0-40b8-a2de-5a531bd26c4d",
   "metadata": {},
   "outputs": [],
   "source": []
  },
  {
   "cell_type": "code",
   "execution_count": null,
   "id": "3860fa15-20e9-4b12-91db-cf7023b8bdd4",
   "metadata": {},
   "outputs": [],
   "source": []
  },
  {
   "cell_type": "code",
   "execution_count": null,
   "id": "bc2704bf-129d-4d19-ae52-05f20510a327",
   "metadata": {},
   "outputs": [],
   "source": []
  },
  {
   "cell_type": "code",
   "execution_count": null,
   "id": "5d248e43-68fc-4f6d-897a-ee119a7ef093",
   "metadata": {},
   "outputs": [],
   "source": []
  }
 ],
 "metadata": {
  "kernelspec": {
   "display_name": "Python 3 (ipykernel)",
   "language": "python",
   "name": "python3"
  },
  "language_info": {
   "codemirror_mode": {
    "name": "ipython",
    "version": 3
   },
   "file_extension": ".py",
   "mimetype": "text/x-python",
   "name": "python",
   "nbconvert_exporter": "python",
   "pygments_lexer": "ipython3",
   "version": "3.10.7"
  }
 },
 "nbformat": 4,
 "nbformat_minor": 5
}
