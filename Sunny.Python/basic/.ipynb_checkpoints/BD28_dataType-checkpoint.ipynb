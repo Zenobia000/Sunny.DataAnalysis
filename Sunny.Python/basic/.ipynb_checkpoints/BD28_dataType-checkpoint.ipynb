{
 "cells": [
  {
   "cell_type": "code",
   "execution_count": 3,
   "id": "4320dcf8-9645-403e-b54a-59f1a3f2f244",
   "metadata": {},
   "outputs": [],
   "source": [
    "x =3 "
   ]
  },
  {
   "cell_type": "code",
   "execution_count": 4,
   "id": "95bd37ca-f0f6-48b2-9efc-77705bb7dc4b",
   "metadata": {},
   "outputs": [
    {
     "data": {
      "text/plain": [
       "3"
      ]
     },
     "execution_count": 4,
     "metadata": {},
     "output_type": "execute_result"
    }
   ],
   "source": [
    "x"
   ]
  },
  {
   "cell_type": "markdown",
   "id": "acd16c7b-0845-4404-8a2c-2cc69998e1c5",
   "metadata": {
    "tags": []
   },
   "source": [
    "## 資料數值型態"
   ]
  },
  {
   "cell_type": "code",
   "execution_count": 9,
   "id": "2bed7f90-a384-47f9-912d-2cf9ac237a86",
   "metadata": {},
   "outputs": [
    {
     "data": {
      "text/plain": [
       "10"
      ]
     },
     "execution_count": 9,
     "metadata": {},
     "output_type": "execute_result"
    }
   ],
   "source": [
    "# var 是一個參考，參考到一個記憶體位置，該位置存放數字10\n",
    "# var 相當於 C 的指標\n",
    "var1 = 10\n",
    "var1"
   ]
  },
  {
   "cell_type": "code",
   "execution_count": 20,
   "id": "18465dce-dcb4-4fb9-9c6d-9be7c65d6a1d",
   "metadata": {},
   "outputs": [
    {
     "data": {
      "text/plain": [
       "20"
      ]
     },
     "execution_count": 20,
     "metadata": {},
     "output_type": "execute_result"
    }
   ],
   "source": [
    "# 改變var1參考到另一個記憶體位置，該位置存放數字20\n",
    "var1 = 20\n",
    "var1"
   ]
  },
  {
   "cell_type": "markdown",
   "id": "9b7ed08b-098e-416e-9cbb-5bd4b751dc9f",
   "metadata": {
    "tags": []
   },
   "source": [
    "<h2>布林是整數的子型態"
   ]
  },
  {
   "cell_type": "code",
   "execution_count": 14,
   "id": "35c27ad8-57f5-491c-85f4-fb740863e9b0",
   "metadata": {},
   "outputs": [
    {
     "data": {
      "text/plain": [
       "True"
      ]
     },
     "execution_count": 14,
     "metadata": {},
     "output_type": "execute_result"
    }
   ],
   "source": [
    "True"
   ]
  },
  {
   "cell_type": "code",
   "execution_count": 16,
   "id": "0e28f559-d339-4357-9b72-4d18b7ac07ee",
   "metadata": {},
   "outputs": [
    {
     "data": {
      "text/plain": [
       "False"
      ]
     },
     "execution_count": 16,
     "metadata": {},
     "output_type": "execute_result"
    }
   ],
   "source": [
    "False"
   ]
  },
  {
   "cell_type": "code",
   "execution_count": 17,
   "id": "e678eeae-e115-4fe5-8bc7-1efa6a7e64ba",
   "metadata": {},
   "outputs": [
    {
     "data": {
      "text/plain": [
       "2"
      ]
     },
     "execution_count": 17,
     "metadata": {},
     "output_type": "execute_result"
    }
   ],
   "source": [
    "True + 1"
   ]
  },
  {
   "cell_type": "code",
   "execution_count": 24,
   "id": "e16e2dc2-d477-47d4-91b7-afb02c56e673",
   "metadata": {},
   "outputs": [
    {
     "data": {
      "text/plain": [
       "-2"
      ]
     },
     "execution_count": 24,
     "metadata": {},
     "output_type": "execute_result"
    }
   ],
   "source": [
    "False - 2"
   ]
  },
  {
   "cell_type": "code",
   "execution_count": 5,
   "id": "dba104f2-c3ec-44b9-ae4f-fb62cf149fe0",
   "metadata": {},
   "outputs": [
    {
     "data": {
      "text/plain": [
       "True"
      ]
     },
     "execution_count": 5,
     "metadata": {},
     "output_type": "execute_result"
    }
   ],
   "source": [
    "# 只要是非0就是真\n",
    "bool(-99)"
   ]
  },
  {
   "cell_type": "code",
   "execution_count": 6,
   "id": "0fab0d33-5abe-4d51-b376-0a9231985401",
   "metadata": {},
   "outputs": [
    {
     "data": {
      "text/plain": [
       "False"
      ]
     },
     "execution_count": 6,
     "metadata": {},
     "output_type": "execute_result"
    }
   ],
   "source": [
    "bool(0)"
   ]
  },
  {
   "cell_type": "markdown",
   "id": "100bc8eb-c7d1-46a7-8910-acc0b2a16ff0",
   "metadata": {},
   "source": [
    "## 整數不會overflow"
   ]
  },
  {
   "cell_type": "code",
   "execution_count": 23,
   "id": "f80afc23-c153-4ba4-a9b6-11277eaf9597",
   "metadata": {},
   "outputs": [
    {
     "ename": "OverflowError",
     "evalue": "(34, 'Result too large')",
     "output_type": "error",
     "traceback": [
      "\u001b[1;31m---------------------------------------------------------------------------\u001b[0m",
      "\u001b[1;31mOverflowError\u001b[0m                             Traceback (most recent call last)",
      "Cell \u001b[1;32mIn [23], line 1\u001b[0m\n\u001b[1;32m----> 1\u001b[0m \u001b[38;5;241;43m99.0\u001b[39;49m\u001b[43m \u001b[49m\u001b[38;5;241;43m*\u001b[39;49m\u001b[38;5;241;43m*\u001b[39;49m\u001b[43m \u001b[49m\u001b[38;5;241;43m999\u001b[39;49m\n",
      "\u001b[1;31mOverflowError\u001b[0m: (34, 'Result too large')"
     ]
    }
   ],
   "source": [
    "99.0 ** 999"
   ]
  },
  {
   "cell_type": "code",
   "execution_count": 25,
   "id": "d75fb989-cf3e-44b0-a7d1-8467c9b30df2",
   "metadata": {},
   "outputs": [
    {
     "data": {
      "text/plain": [
       "43607320616826516150134170338646201223107986075620608122042152718341096569545917590671870901580903358089476539623429084337462072232323071988487722379025918136755324190771905744346299895101262599307041418954741821869968434014360426644150217367535228232882075278549084725532810757690211467541802733062351872629554887071558565105695677775800388952822060307618460889511910384740346745943545064075415717782672023429351183468901656480345653681279807760503885914267068619022794752754526226771965509515429769648943853393239466825581612114199388796846713698917724135481280269758239887617123242806941909343309827534698631895049620931536029044672739890893731191572695394918757396075233400643214858118180583796749973549192881847496687493228681933883471419305060028239670757748730500105612756664893487357552376496719298602670598130493347017948692042081377598537358748002952547169866050883302508349720700651016938696180158800498316548501175152775533119976607827063817490547330402728524591368881264569985453491886319052131328728570583818564408673363285874627267673252785057700907094407300537042771693320295830608507458585348221347122499594911138477627406334364083621560827029793286395456214852438250303387531773235681535933473521419169488498159152761557826192742496821559991415227170097504961476506200211299335714069542688981875338616104136244975260096287855709071756715604259948711756265446540708637145010756617391517706049935039684935491582597441963211160507086049676500663852688906531131555974645591096814621093225847864090909267239163899350786582783841798570024502259541481335139715410637523456696273629960402393128908813871826086839104466371057841461548132615966946230528245048730192919253049295790150492481440313287274889457554062183833564917170760547521002721621831858497390536681773386602450057910854295098455215379515799387105287701204877340476212991327443730608598868554899539340943577841165431687252557996668355126634828795393392192731183338157723722131288855592435620519974479953860308528414089899"
      ]
     },
     "execution_count": 25,
     "metadata": {},
     "output_type": "execute_result"
    }
   ],
   "source": [
    "99 ** 999"
   ]
  },
  {
   "cell_type": "markdown",
   "id": "889eeaa4-49b3-4200-b82f-ba60f4e80f38",
   "metadata": {},
   "source": [
    "## 數值型態範例"
   ]
  },
  {
   "cell_type": "code",
   "execution_count": 27,
   "id": "c62eed27-5a0c-437d-8759-9e66985f5458",
   "metadata": {},
   "outputs": [
    {
     "data": {
      "text/plain": [
       "13"
      ]
     },
     "execution_count": 27,
     "metadata": {},
     "output_type": "execute_result"
    }
   ],
   "source": [
    "# 二進位範例\n",
    "0b1101"
   ]
  },
  {
   "cell_type": "code",
   "execution_count": 29,
   "id": "6102293a-3e32-47fe-b904-2c670df4cdae",
   "metadata": {},
   "outputs": [
    {
     "data": {
      "text/plain": [
       "27"
      ]
     },
     "execution_count": 29,
     "metadata": {},
     "output_type": "execute_result"
    }
   ],
   "source": [
    "# 八進位\n",
    "0o33"
   ]
  },
  {
   "cell_type": "markdown",
   "id": "f698c29c-75b7-4b70-8a5e-122d65b5e82b",
   "metadata": {},
   "source": [
    "## C/python 程序導向"
   ]
  },
  {
   "cell_type": "code",
   "execution_count": 31,
   "id": "d330da1c-8e52-4107-b152-cc723bd6f35d",
   "metadata": {},
   "outputs": [
    {
     "data": {
      "text/plain": [
       "33"
      ]
     },
     "execution_count": 31,
     "metadata": {},
     "output_type": "execute_result"
    }
   ],
   "source": [
    "int(33.6)"
   ]
  },
  {
   "cell_type": "code",
   "execution_count": 33,
   "id": "9c95fde5-84b8-4e0d-b573-76997b38c263",
   "metadata": {},
   "outputs": [
    {
     "data": {
      "text/plain": [
       "175"
      ]
     },
     "execution_count": 33,
     "metadata": {},
     "output_type": "execute_result"
    }
   ],
   "source": [
    "int(\"175\")"
   ]
  },
  {
   "cell_type": "code",
   "execution_count": 34,
   "id": "42430a6a-ae99-4605-8bbd-7794a431d5cc",
   "metadata": {},
   "outputs": [
    {
     "data": {
      "text/plain": [
       "34.112"
      ]
     },
     "execution_count": 34,
     "metadata": {},
     "output_type": "execute_result"
    }
   ],
   "source": [
    "float('34.112')"
   ]
  },
  {
   "cell_type": "markdown",
   "id": "6c64b7f7-0c26-405d-acb0-e9c571728a06",
   "metadata": {},
   "source": [
    "## 凡事皆物件"
   ]
  },
  {
   "cell_type": "code",
   "execution_count": 37,
   "id": "9933aef5-2fc6-425d-85f9-6af15c675f20",
   "metadata": {},
   "outputs": [],
   "source": [
    "# x 是一個物件 參考到記憶體位置, 記憶體存100\n",
    "x = 100"
   ]
  },
  {
   "cell_type": "code",
   "execution_count": 38,
   "id": "9d10ad69-b534-465e-9b81-34cd84dc173e",
   "metadata": {},
   "outputs": [
    {
     "data": {
      "text/plain": [
       "2963561844048"
      ]
     },
     "execution_count": 38,
     "metadata": {},
     "output_type": "execute_result"
    }
   ],
   "source": [
    "# x 參考到的記憶體位置\n",
    "id(x)"
   ]
  },
  {
   "cell_type": "code",
   "execution_count": 39,
   "id": "40ca4ef3-17c8-4fc3-8d38-880079cdb265",
   "metadata": {},
   "outputs": [
    {
     "data": {
      "text/plain": [
       "int"
      ]
     },
     "execution_count": 39,
     "metadata": {},
     "output_type": "execute_result"
    }
   ],
   "source": [
    "type(x)"
   ]
  },
  {
   "cell_type": "code",
   "execution_count": 40,
   "id": "5cfd3219-138a-4586-bc1a-7b7bdc6224ea",
   "metadata": {},
   "outputs": [
    {
     "data": {
      "text/plain": [
       "100"
      ]
     },
     "execution_count": 40,
     "metadata": {},
     "output_type": "execute_result"
    }
   ],
   "source": [
    "# x參考到的值\n",
    "x"
   ]
  },
  {
   "cell_type": "code",
   "execution_count": 43,
   "id": "d8eb1dc5-31b8-4aac-81ef-661bdc3bb7f1",
   "metadata": {},
   "outputs": [
    {
     "data": {
      "text/plain": [
       "300"
      ]
     },
     "execution_count": 43,
     "metadata": {},
     "output_type": "execute_result"
    }
   ],
   "source": [
    "m = 300\n",
    "m"
   ]
  },
  {
   "cell_type": "code",
   "execution_count": 44,
   "id": "4a43e0d8-3d82-426e-b08f-a7a731ed5df3",
   "metadata": {},
   "outputs": [
    {
     "data": {
      "text/plain": [
       "2963669485680"
      ]
     },
     "execution_count": 44,
     "metadata": {},
     "output_type": "execute_result"
    }
   ],
   "source": [
    "id(m)"
   ]
  },
  {
   "cell_type": "code",
   "execution_count": 45,
   "id": "38aebf61-68cb-4171-8963-f7563cf4719b",
   "metadata": {},
   "outputs": [
    {
     "data": {
      "text/plain": [
       "300"
      ]
     },
     "execution_count": 45,
     "metadata": {},
     "output_type": "execute_result"
    }
   ],
   "source": [
    "n = 300\n",
    "n"
   ]
  },
  {
   "cell_type": "code",
   "execution_count": 46,
   "id": "1044b285-0c5f-455f-82b6-85cd1c333db7",
   "metadata": {},
   "outputs": [
    {
     "data": {
      "text/plain": [
       "2963669485776"
      ]
     },
     "execution_count": 46,
     "metadata": {},
     "output_type": "execute_result"
    }
   ],
   "source": [
    "id(n)"
   ]
  },
  {
   "cell_type": "markdown",
   "id": "5f1cd6a0-ef06-4849-ad8b-1217b551113b",
   "metadata": {},
   "source": [
    "## 關係運算子"
   ]
  },
  {
   "cell_type": "markdown",
   "id": "91280068-7015-4461-896d-270ede70890e",
   "metadata": {},
   "source": [
    "### 比較運算子"
   ]
  },
  {
   "cell_type": "code",
   "execution_count": 47,
   "id": "6c28300c-7261-4965-b736-059f9990db36",
   "metadata": {},
   "outputs": [],
   "source": [
    "x,y,z = 3,6,2"
   ]
  },
  {
   "cell_type": "code",
   "execution_count": 49,
   "id": "fc48f95d-fa65-41ca-ad13-f4907f37ace4",
   "metadata": {},
   "outputs": [
    {
     "data": {
      "text/plain": [
       "True"
      ]
     },
     "execution_count": 49,
     "metadata": {},
     "output_type": "execute_result"
    }
   ],
   "source": [
    "# java x<y && y>z\n",
    "x<y>z"
   ]
  },
  {
   "cell_type": "code",
   "execution_count": 50,
   "id": "709de638-29e5-4cb4-a1c8-819081b065fc",
   "metadata": {},
   "outputs": [
    {
     "data": {
      "text/plain": [
       "True"
      ]
     },
     "execution_count": 50,
     "metadata": {},
     "output_type": "execute_result"
    }
   ],
   "source": [
    "55 > 33 < 44"
   ]
  },
  {
   "cell_type": "code",
   "execution_count": 52,
   "id": "9aa9806c-491a-408f-911a-f39544eb7e36",
   "metadata": {},
   "outputs": [
    {
     "data": {
      "text/plain": [
       "3"
      ]
     },
     "execution_count": 52,
     "metadata": {},
     "output_type": "execute_result"
    }
   ],
   "source": [
    "# x<y>z = 1(True)\n",
    "(x<y>z) * 3 "
   ]
  },
  {
   "cell_type": "markdown",
   "id": "05a01bd4-4c91-4a72-b403-1e866ab43cce",
   "metadata": {},
   "source": [
    "## 邏輯運算子"
   ]
  },
  {
   "cell_type": "markdown",
   "id": "840da6f4-7e65-4e99-b6ee-644b4ffe18db",
   "metadata": {},
   "source": [
    "### 在python 的世界，非0是真(true)，0是假(false)"
   ]
  },
  {
   "cell_type": "code",
   "execution_count": 53,
   "id": "0b2ec849-d97a-4071-bec7-a9fc3df8d897",
   "metadata": {},
   "outputs": [
    {
     "data": {
      "text/plain": [
       "0"
      ]
     },
     "execution_count": 53,
     "metadata": {},
     "output_type": "execute_result"
    }
   ],
   "source": [
    "0 and 7 "
   ]
  },
  {
   "cell_type": "code",
   "execution_count": 54,
   "id": "adee72fc-98e9-4959-91ee-e2f4ee77f563",
   "metadata": {},
   "outputs": [
    {
     "data": {
      "text/plain": [
       "7"
      ]
     },
     "execution_count": 54,
     "metadata": {},
     "output_type": "execute_result"
    }
   ],
   "source": [
    "0 or 7"
   ]
  },
  {
   "cell_type": "code",
   "execution_count": 55,
   "id": "0b9fa887-2dec-491b-9188-2d87f8375f7a",
   "metadata": {},
   "outputs": [
    {
     "data": {
      "text/plain": [
       "22"
      ]
     },
     "execution_count": 55,
     "metadata": {},
     "output_type": "execute_result"
    }
   ],
   "source": [
    "18 and 22"
   ]
  },
  {
   "cell_type": "markdown",
   "id": "efc017b4-e1ed-42d7-8f8b-d33bbc5f3d15",
   "metadata": {},
   "source": [
    "## identity 運算子"
   ]
  },
  {
   "cell_type": "code",
   "execution_count": 57,
   "id": "5ddcc6de-04ec-42ea-aa97-ef71ce5528d4",
   "metadata": {},
   "outputs": [],
   "source": [
    "x,y = 500,500"
   ]
  },
  {
   "cell_type": "code",
   "execution_count": 58,
   "id": "525a1149-b364-41be-a83f-8972cca3bc2d",
   "metadata": {},
   "outputs": [
    {
     "data": {
      "text/plain": [
       "500"
      ]
     },
     "execution_count": 58,
     "metadata": {},
     "output_type": "execute_result"
    }
   ],
   "source": [
    "x"
   ]
  },
  {
   "cell_type": "code",
   "execution_count": 59,
   "id": "630e5fbd-1e95-401a-bbb1-4d3841768083",
   "metadata": {},
   "outputs": [
    {
     "data": {
      "text/plain": [
       "500"
      ]
     },
     "execution_count": 59,
     "metadata": {},
     "output_type": "execute_result"
    }
   ],
   "source": [
    "y"
   ]
  },
  {
   "cell_type": "code",
   "execution_count": 60,
   "id": "f3e71086-8375-4545-a3a7-9473b03477ff",
   "metadata": {},
   "outputs": [
    {
     "data": {
      "text/plain": [
       "True"
      ]
     },
     "execution_count": 60,
     "metadata": {},
     "output_type": "execute_result"
    }
   ],
   "source": [
    "x==y"
   ]
  },
  {
   "cell_type": "code",
   "execution_count": 61,
   "id": "86e5fb79-2e4c-4e63-a5a5-ba7011fd70c1",
   "metadata": {},
   "outputs": [
    {
     "data": {
      "text/plain": [
       "True"
      ]
     },
     "execution_count": 61,
     "metadata": {},
     "output_type": "execute_result"
    }
   ],
   "source": [
    "x is y"
   ]
  },
  {
   "cell_type": "code",
   "execution_count": 62,
   "id": "ad71926c-292a-4390-98dd-71be00e74f49",
   "metadata": {},
   "outputs": [
    {
     "data": {
      "text/plain": [
       "True"
      ]
     },
     "execution_count": 62,
     "metadata": {},
     "output_type": "execute_result"
    }
   ],
   "source": [
    "id(x) == id(y)"
   ]
  },
  {
   "cell_type": "markdown",
   "id": "e0c258d4-fd3c-4c4b-9cf7-9f5dcbe45a15",
   "metadata": {},
   "source": [
    "### 一個等號 就是 一個新的記憶體"
   ]
  },
  {
   "cell_type": "code",
   "execution_count": 63,
   "id": "7dc235c8-e708-49a8-9558-e32b37d1da93",
   "metadata": {},
   "outputs": [
    {
     "data": {
      "text/plain": [
       "500"
      ]
     },
     "execution_count": 63,
     "metadata": {},
     "output_type": "execute_result"
    }
   ],
   "source": [
    "o=500\n",
    "o"
   ]
  },
  {
   "cell_type": "code",
   "execution_count": 64,
   "id": "aca02f16-40fe-4cac-bab0-19d23cf2e8ab",
   "metadata": {},
   "outputs": [
    {
     "data": {
      "text/plain": [
       "500"
      ]
     },
     "execution_count": 64,
     "metadata": {},
     "output_type": "execute_result"
    }
   ],
   "source": [
    "p=500\n",
    "p"
   ]
  },
  {
   "cell_type": "code",
   "execution_count": 65,
   "id": "50ac7474-b2cd-4f28-a60b-94e26f802b38",
   "metadata": {},
   "outputs": [
    {
     "data": {
      "text/plain": [
       "True"
      ]
     },
     "execution_count": 65,
     "metadata": {},
     "output_type": "execute_result"
    }
   ],
   "source": [
    "o == p"
   ]
  },
  {
   "cell_type": "code",
   "execution_count": 66,
   "id": "b5fcee49-12f2-4eeb-91f9-049955065725",
   "metadata": {},
   "outputs": [
    {
     "data": {
      "text/plain": [
       "False"
      ]
     },
     "execution_count": 66,
     "metadata": {},
     "output_type": "execute_result"
    }
   ],
   "source": [
    "o is p"
   ]
  },
  {
   "cell_type": "code",
   "execution_count": 67,
   "id": "78d10f0c-ba76-455d-81eb-e47d6d517450",
   "metadata": {},
   "outputs": [
    {
     "data": {
      "text/plain": [
       "False"
      ]
     },
     "execution_count": 67,
     "metadata": {},
     "output_type": "execute_result"
    }
   ],
   "source": [
    "id(o) == id(p)"
   ]
  },
  {
   "cell_type": "markdown",
   "id": "3bdc3b71-d4a3-4611-80d7-445fd5107a99",
   "metadata": {},
   "source": [
    "## 文字的資料型態"
   ]
  },
  {
   "cell_type": "code",
   "execution_count": 71,
   "id": "fde3b723-c38b-4714-819c-ecc05b77c0b1",
   "metadata": {},
   "outputs": [
    {
     "data": {
      "text/plain": [
       "'hello'"
      ]
     },
     "execution_count": 71,
     "metadata": {},
     "output_type": "execute_result"
    }
   ],
   "source": [
    "\"hello\""
   ]
  },
  {
   "cell_type": "code",
   "execution_count": 72,
   "id": "f776cd3c-1010-4e3f-ac55-9cec8c92d7c4",
   "metadata": {},
   "outputs": [
    {
     "data": {
      "text/plain": [
       "\"it's good\""
      ]
     },
     "execution_count": 72,
     "metadata": {},
     "output_type": "execute_result"
    }
   ],
   "source": [
    "\"it's good\""
   ]
  },
  {
   "cell_type": "code",
   "execution_count": 73,
   "id": "ff99409f-2780-4fb5-904d-641ff8ad8f4d",
   "metadata": {},
   "outputs": [],
   "source": [
    "mystr = '''this is a test \n",
    "[TAB]\\tother characters'''"
   ]
  },
  {
   "cell_type": "code",
   "execution_count": 74,
   "id": "b67a510d-46d0-4099-99ea-e4b6214ff264",
   "metadata": {},
   "outputs": [
    {
     "data": {
      "text/plain": [
       "'this is a test \\n[TAB]\\tother characters'"
      ]
     },
     "execution_count": 74,
     "metadata": {},
     "output_type": "execute_result"
    }
   ],
   "source": [
    "mystr"
   ]
  },
  {
   "cell_type": "code",
   "execution_count": 78,
   "id": "d0a12e16-8ba9-4325-9b81-e321476e00dd",
   "metadata": {},
   "outputs": [
    {
     "data": {
      "text/plain": [
       "'\\n\\t'"
      ]
     },
     "execution_count": 78,
     "metadata": {},
     "output_type": "execute_result"
    }
   ],
   "source": [
    "j = \"\"\"\\n\\t\"\"\"\n",
    "j"
   ]
  },
  {
   "cell_type": "code",
   "execution_count": 79,
   "id": "5cffaed2-21ae-45a1-bf6b-d3175e6a2a95",
   "metadata": {},
   "outputs": [
    {
     "name": "stdout",
     "output_type": "stream",
     "text": [
      "this is a test \n",
      "[TAB]\tother characters\n"
     ]
    }
   ],
   "source": [
    "# 在jupyter notebook 很少用到 print()，除非要顯示格式化字串\n",
    "print(mystr)"
   ]
  },
  {
   "cell_type": "markdown",
   "id": "4b58e22d-5ad7-4a90-a365-886eaa3717da",
   "metadata": {},
   "source": [
    "## jupyter notebook 不用 print()的好處"
   ]
  },
  {
   "cell_type": "code",
   "execution_count": 80,
   "id": "3c16b76b-90b6-4e7f-bdce-0c5393e793da",
   "metadata": {},
   "outputs": [
    {
     "data": {
      "text/plain": [
       "33"
      ]
     },
     "execution_count": 80,
     "metadata": {},
     "output_type": "execute_result"
    }
   ],
   "source": [
    "a = 33\n",
    "a"
   ]
  },
  {
   "cell_type": "code",
   "execution_count": 81,
   "id": "90ec3673-dd7c-48e7-9f51-e47b5c213c81",
   "metadata": {},
   "outputs": [
    {
     "data": {
      "text/plain": [
       "'33'"
      ]
     },
     "execution_count": 81,
     "metadata": {},
     "output_type": "execute_result"
    }
   ],
   "source": [
    "b = \"33\"\n",
    "b"
   ]
  },
  {
   "cell_type": "markdown",
   "id": "148547af-a2d5-4277-9a7e-e89fdc1d46c2",
   "metadata": {},
   "source": [
    "## 成員運算"
   ]
  },
  {
   "cell_type": "code",
   "execution_count": 83,
   "id": "0b4a5d23-7be3-4011-8b53-8479590fa6f2",
   "metadata": {},
   "outputs": [
    {
     "data": {
      "text/plain": [
       "True"
      ]
     },
     "execution_count": 83,
     "metadata": {},
     "output_type": "execute_result"
    }
   ],
   "source": [
    "mydata = \"33\"\n",
    "\"3\" in mydata"
   ]
  },
  {
   "cell_type": "code",
   "execution_count": 84,
   "id": "55d0e6c7-03c8-429d-9386-c399bff2550b",
   "metadata": {},
   "outputs": [
    {
     "data": {
      "text/plain": [
       "False"
      ]
     },
     "execution_count": 84,
     "metadata": {},
     "output_type": "execute_result"
    }
   ],
   "source": [
    "\"9\" in mydata"
   ]
  },
  {
   "cell_type": "code",
   "execution_count": 86,
   "id": "74ab44de-2b8c-477d-9e13-70dcdce9d33a",
   "metadata": {},
   "outputs": [
    {
     "ename": "TypeError",
     "evalue": "'str' object does not support item assignment",
     "output_type": "error",
     "traceback": [
      "\u001b[1;31m---------------------------------------------------------------------------\u001b[0m",
      "\u001b[1;31mTypeError\u001b[0m                                 Traceback (most recent call last)",
      "Cell \u001b[1;32mIn [86], line 2\u001b[0m\n\u001b[0;32m      1\u001b[0m \u001b[38;5;66;03m# 字串是不可改變的\u001b[39;00m\n\u001b[1;32m----> 2\u001b[0m \u001b[43mmydata\u001b[49m\u001b[43m[\u001b[49m\u001b[38;5;241;43m0\u001b[39;49m\u001b[43m]\u001b[49m\u001b[38;5;241m=\u001b[39m\u001b[38;5;124m\"\u001b[39m\u001b[38;5;124mk\u001b[39m\u001b[38;5;124m\"\u001b[39m\n",
      "\u001b[1;31mTypeError\u001b[0m: 'str' object does not support item assignment"
     ]
    }
   ],
   "source": [
    "# 字串是不可改變的\n",
    "mydata[0]=\"k\""
   ]
  },
  {
   "cell_type": "code",
   "execution_count": 88,
   "id": "7071a4ce-b227-4ebe-982c-d1597d18f7b7",
   "metadata": {},
   "outputs": [
    {
     "data": {
      "text/plain": [
       "'hello python'"
      ]
     },
     "execution_count": 88,
     "metadata": {},
     "output_type": "execute_result"
    }
   ],
   "source": [
    "\"hello\" + \" python\""
   ]
  },
  {
   "cell_type": "code",
   "execution_count": 91,
   "id": "d350a704-4756-49a1-998e-55d273258ea7",
   "metadata": {},
   "outputs": [
    {
     "data": {
      "text/plain": [
       "'my data, my data, my data, '"
      ]
     },
     "execution_count": 91,
     "metadata": {},
     "output_type": "execute_result"
    }
   ],
   "source": [
    "3 * \"my data, \""
   ]
  },
  {
   "cell_type": "markdown",
   "id": "53e63fae-b8ef-4d2d-83f9-45939e9505df",
   "metadata": {},
   "source": [
    "## Slicing"
   ]
  },
  {
   "cell_type": "code",
   "execution_count": 93,
   "id": "1b8d3dba-39c5-411a-81d5-41738a2e5745",
   "metadata": {},
   "outputs": [
    {
     "data": {
      "text/plain": [
       "'ello'"
      ]
     },
     "execution_count": 93,
     "metadata": {},
     "output_type": "execute_result"
    }
   ],
   "source": [
    "mystr =\"hello python\"\n",
    "mystr[1:5]"
   ]
  },
  {
   "cell_type": "code",
   "execution_count": 95,
   "id": "ea18bc5c-bbe3-41fd-9ea5-b0a47f8e0685",
   "metadata": {},
   "outputs": [
    {
     "data": {
      "text/plain": [
       "'hello p'"
      ]
     },
     "execution_count": 95,
     "metadata": {},
     "output_type": "execute_result"
    }
   ],
   "source": [
    "mystr[:7] # 0 ~ 6"
   ]
  },
  {
   "cell_type": "code",
   "execution_count": 96,
   "id": "41e86b5d-2fb9-4333-8ec7-9446147d100e",
   "metadata": {},
   "outputs": [
    {
     "data": {
      "text/plain": [
       "'llo python'"
      ]
     },
     "execution_count": 96,
     "metadata": {},
     "output_type": "execute_result"
    }
   ],
   "source": [
    "mystr[2:] #2 ~ 最後一個字元"
   ]
  },
  {
   "cell_type": "code",
   "execution_count": 98,
   "id": "aea8c2d5-c1d8-4476-9a75-c045a9fb065a",
   "metadata": {},
   "outputs": [
    {
     "data": {
      "text/plain": [
       "'el y'"
      ]
     },
     "execution_count": 98,
     "metadata": {},
     "output_type": "execute_result"
    }
   ],
   "source": [
    "mystr[1:9:2] # 1~8, step2 "
   ]
  },
  {
   "cell_type": "code",
   "execution_count": 100,
   "id": "6ec42af8-af37-4c88-8e0a-d5ed88901ed4",
   "metadata": {},
   "outputs": [
    {
     "data": {
      "text/plain": [
       "'lo pyth'"
      ]
     },
     "execution_count": 100,
     "metadata": {},
     "output_type": "execute_result"
    }
   ],
   "source": [
    "mystr[3:-2] # 3~倒數第三的字元"
   ]
  },
  {
   "cell_type": "code",
   "execution_count": 102,
   "id": "a8c81b84-fced-4aea-a56e-d1f9ff7941b1",
   "metadata": {},
   "outputs": [
    {
     "data": {
      "text/plain": [
       "'hello python'"
      ]
     },
     "execution_count": 102,
     "metadata": {},
     "output_type": "execute_result"
    }
   ],
   "source": [
    "mystr[:] # 印出全部"
   ]
  },
  {
   "cell_type": "code",
   "execution_count": 104,
   "id": "70d4b4ef-e461-4e0b-ba8e-2419d2785609",
   "metadata": {},
   "outputs": [
    {
     "data": {
      "text/plain": [
       "'nohtyp olleh'"
      ]
     },
     "execution_count": 104,
     "metadata": {},
     "output_type": "execute_result"
    }
   ],
   "source": [
    "mystr[::-1] # 所有字元反向顯示"
   ]
  },
  {
   "cell_type": "code",
   "execution_count": 105,
   "id": "580ba542-7bd3-44f6-ac92-f6acbb71ce49",
   "metadata": {},
   "outputs": [
    {
     "data": {
      "text/plain": [
       "'[Pp]ython$'"
      ]
     },
     "execution_count": 105,
     "metadata": {},
     "output_type": "execute_result"
    }
   ],
   "source": [
    "# Row string 不解釋特殊符號的意義，應用於regular expression\n",
    "R\"[Pp]ython$\" #要找 python 或 python 結尾的文字\n"
   ]
  },
  {
   "cell_type": "markdown",
   "id": "9ccd50ab-ff50-468a-a45c-3f36364f41e6",
   "metadata": {},
   "source": [
    "System.out == sys.stdout == python print()\n",
    "\n",
    "System.in == sys.stdin == python input()"
   ]
  },
  {
   "cell_type": "markdown",
   "id": "ded0d164-3482-49ae-af1a-441c76601755",
   "metadata": {},
   "source": [
    "## print() function"
   ]
  },
  {
   "cell_type": "code",
   "execution_count": 106,
   "id": "4dc6a34e-5127-4ba0-8442-01f08aa928c7",
   "metadata": {},
   "outputs": [],
   "source": [
    "num =576"
   ]
  },
  {
   "cell_type": "code",
   "execution_count": 111,
   "id": "57b8fbda-1285-4e08-88b2-10cbd3542e39",
   "metadata": {},
   "outputs": [
    {
     "data": {
      "text/plain": [
       "576"
      ]
     },
     "execution_count": 111,
     "metadata": {},
     "output_type": "execute_result"
    }
   ],
   "source": [
    "# 顯示num 參考到的值\n",
    "num"
   ]
  },
  {
   "cell_type": "code",
   "execution_count": 112,
   "id": "921dba7d-f10f-43de-955a-fa2cd5d23ceb",
   "metadata": {},
   "outputs": [
    {
     "name": "stdout",
     "output_type": "stream",
     "text": [
      "576\n"
     ]
    }
   ],
   "source": [
    "# 印出num參考到的值，會先轉成文字再印出\n",
    "print(num)"
   ]
  },
  {
   "cell_type": "code",
   "execution_count": 113,
   "id": "e8972e58-525a-4007-bc0c-87f6fbe8bab1",
   "metadata": {},
   "outputs": [
    {
     "name": "stdout",
     "output_type": "stream",
     "text": [
      "hello\n",
      "python\n"
     ]
    }
   ],
   "source": [
    "print(\"hello\")\n",
    "print(\"python\")"
   ]
  },
  {
   "cell_type": "code",
   "execution_count": 115,
   "id": "9dd962de-2ff6-4659-b967-26cf321faca3",
   "metadata": {},
   "outputs": [
    {
     "name": "stdout",
     "output_type": "stream",
     "text": [
      "hello python\n"
     ]
    }
   ],
   "source": [
    "# 可以用 end 參數還改變預設值\n",
    "print(\"hello\", end=\" \")\n",
    "print(\"python\")"
   ]
  },
  {
   "cell_type": "code",
   "execution_count": 116,
   "id": "a437c891-bb22-4043-a21d-e5ee118cbe4d",
   "metadata": {},
   "outputs": [
    {
     "name": "stdout",
     "output_type": "stream",
     "text": [
      "100 + 200 = 300\n"
     ]
    }
   ],
   "source": [
    "a = 100\n",
    "b = 200\n",
    "print(a,\"+\",b,\"=\",a+b)"
   ]
  },
  {
   "cell_type": "code",
   "execution_count": 117,
   "id": "84c83e0a-c3d6-4f9a-8ab5-dafa43804227",
   "metadata": {},
   "outputs": [],
   "source": [
    "## [prompt]代表選擇性\n"
   ]
  },
  {
   "cell_type": "markdown",
   "id": "7edce6b1-1695-4efc-9cc4-810aba2f2574",
   "metadata": {},
   "source": [
    "## input function"
   ]
  },
  {
   "cell_type": "code",
   "execution_count": 125,
   "id": "c6c77dbe-58fc-4e64-bf53-b17aa851f53c",
   "metadata": {},
   "outputs": [
    {
     "name": "stdin",
     "output_type": "stream",
     "text": [
      "請輸入數字 1232\n"
     ]
    }
   ],
   "source": [
    "# 從鍵盤讀資料 讀到的都是文字\n",
    "num = input(\"請輸入數字\")"
   ]
  },
  {
   "cell_type": "code",
   "execution_count": 126,
   "id": "1ca66dfd-856d-4123-b349-2fd6bfb74f51",
   "metadata": {},
   "outputs": [
    {
     "data": {
      "text/plain": [
       "'1232'"
      ]
     },
     "execution_count": 126,
     "metadata": {},
     "output_type": "execute_result"
    }
   ],
   "source": [
    "num"
   ]
  },
  {
   "cell_type": "code",
   "execution_count": 129,
   "id": "9a6d60eb-60eb-4410-a0c9-822e6f678245",
   "metadata": {},
   "outputs": [
    {
     "name": "stdin",
     "output_type": "stream",
     "text": [
      "請輸入數字 33/100\n"
     ]
    }
   ],
   "source": [
    "# 從鍵盤讀資料 讀到的都是文字, 可以透過eval()轉成數字\n",
    "num = eval(input(\"請輸入數字\"))\n"
   ]
  },
  {
   "cell_type": "code",
   "execution_count": 130,
   "id": "2267f17d-9c2a-4238-927b-71f888e04a9c",
   "metadata": {},
   "outputs": [
    {
     "data": {
      "text/plain": [
       "float"
      ]
     },
     "execution_count": 130,
     "metadata": {},
     "output_type": "execute_result"
    }
   ],
   "source": [
    "type(num)"
   ]
  },
  {
   "cell_type": "code",
   "execution_count": 131,
   "id": "695a5aeb-bcf2-47ad-8008-1660d2f894ae",
   "metadata": {},
   "outputs": [
    {
     "data": {
      "text/plain": [
       "0.33"
      ]
     },
     "execution_count": 131,
     "metadata": {},
     "output_type": "execute_result"
    }
   ],
   "source": [
    "num"
   ]
  },
  {
   "cell_type": "markdown",
   "id": "af94e630-e95f-4bfb-9d33-e8a85e66cb5e",
   "metadata": {},
   "source": [
    "## 文字格式化"
   ]
  },
  {
   "cell_type": "code",
   "execution_count": 133,
   "id": "e6d46554-cb7b-49ad-91be-faf47a7c89a3",
   "metadata": {},
   "outputs": [],
   "source": [
    "# f-strings"
   ]
  },
  {
   "cell_type": "code",
   "execution_count": 134,
   "id": "31ca956f-0a68-4d6c-9fb6-3101b0253b75",
   "metadata": {},
   "outputs": [],
   "source": [
    "a = 200\n",
    "b = 300"
   ]
  },
  {
   "cell_type": "code",
   "execution_count": 135,
   "id": "b262547e-4299-45c2-ba59-f8da6c144462",
   "metadata": {},
   "outputs": [
    {
     "name": "stdout",
     "output_type": "stream",
     "text": [
      "200+300=500\n"
     ]
    }
   ],
   "source": [
    "print(f\"{a}+{b}={a+b}\")"
   ]
  },
  {
   "cell_type": "code",
   "execution_count": 137,
   "id": "2606e59b-a5ce-49ef-96e9-048da025497a",
   "metadata": {},
   "outputs": [
    {
     "name": "stdout",
     "output_type": "stream",
     "text": [
      "200 + 300 = 500\n"
     ]
    }
   ],
   "source": [
    "# string format\n",
    "print('{} + {} = {}'.format(a,b,a+b))"
   ]
  },
  {
   "cell_type": "code",
   "execution_count": 139,
   "id": "1d5e29c9-5936-4d60-b882-3279bf5f5bc2",
   "metadata": {},
   "outputs": [
    {
     "name": "stdout",
     "output_type": "stream",
     "text": [
      "200 + 300 = 500\n"
     ]
    }
   ],
   "source": [
    "# string format operator, python2 時代\n",
    "print(\"%d + %d = %d\" % (a,b,a+b))"
   ]
  },
  {
   "cell_type": "code",
   "execution_count": 141,
   "id": "465abfe8-cb8f-4f29-bfa3-d6c472b8fd97",
   "metadata": {},
   "outputs": [],
   "source": [
    "prec = 0.983242535"
   ]
  },
  {
   "cell_type": "code",
   "execution_count": 145,
   "id": "0eabf3b3-5af8-4ae9-bfd1-38021d036868",
   "metadata": {},
   "outputs": [
    {
     "name": "stdout",
     "output_type": "stream",
     "text": [
      "模型精確度為: 98.32%\n"
     ]
    }
   ],
   "source": [
    "print(f'模型精確度為: {prec*100:.2f}%') # 浮點數，小數兩位"
   ]
  },
  {
   "cell_type": "code",
   "execution_count": 146,
   "id": "63f03b9a-b90d-4027-b36c-196858d054fe",
   "metadata": {},
   "outputs": [
    {
     "name": "stdout",
     "output_type": "stream",
     "text": [
      "模型精確度為: 98.32%\n"
     ]
    }
   ],
   "source": [
    "print(\"模型精確度為: {:.2f}%\".format(prec*100))"
   ]
  },
  {
   "cell_type": "code",
   "execution_count": 147,
   "id": "9a0e1b55-97c1-4f77-ad07-23f2bdcfdd97",
   "metadata": {},
   "outputs": [
    {
     "name": "stdout",
     "output_type": "stream",
     "text": [
      "模型精確度為:98.32%\n"
     ]
    }
   ],
   "source": [
    "print(\"模型精確度為:%.2f%%\" % (prec*100))"
   ]
  },
  {
   "cell_type": "code",
   "execution_count": 4,
   "id": "8aa288f7-1814-4f96-866e-28a92f1a96f0",
   "metadata": {},
   "outputs": [
    {
     "data": {
      "text/plain": [
       "1"
      ]
     },
     "execution_count": 4,
     "metadata": {},
     "output_type": "execute_result"
    }
   ],
   "source": [
    "int(True)"
   ]
  },
  {
   "cell_type": "code",
   "execution_count": 7,
   "id": "cc378460-b2c9-4c15-8e93-fbffd5cdc2b5",
   "metadata": {},
   "outputs": [],
   "source": [
    "x = \"abcdefgh\""
   ]
  },
  {
   "cell_type": "code",
   "execution_count": 8,
   "id": "c77de354-8394-4a5a-859a-690e0c217718",
   "metadata": {},
   "outputs": [
    {
     "data": {
      "text/plain": [
       "'efg'"
      ]
     },
     "execution_count": 8,
     "metadata": {},
     "output_type": "execute_result"
    }
   ],
   "source": [
    "x[-4:-1]"
   ]
  },
  {
   "cell_type": "code",
   "execution_count": 9,
   "id": "cf589a4f-8594-436e-a21b-1fc5093d109b",
   "metadata": {},
   "outputs": [
    {
     "name": "stdout",
     "output_type": "stream",
     "text": [
      "8\n"
     ]
    }
   ],
   "source": [
    "x=3;y=5;print(x+y)"
   ]
  },
  {
   "cell_type": "markdown",
   "id": "2389b7c0-e95b-4a38-9f4f-4c7339fd6329",
   "metadata": {},
   "source": [
    "## List "
   ]
  },
  {
   "cell_type": "code",
   "execution_count": 11,
   "id": "dd83aad9-65a8-4c3b-9273-8bc1986bb73d",
   "metadata": {},
   "outputs": [
    {
     "ename": "TypeError",
     "evalue": "'str' object does not support item assignment",
     "output_type": "error",
     "traceback": [
      "\u001b[1;31m---------------------------------------------------------------------------\u001b[0m",
      "\u001b[1;31mTypeError\u001b[0m                                 Traceback (most recent call last)",
      "Cell \u001b[1;32mIn [11], line 2\u001b[0m\n\u001b[0;32m      1\u001b[0m char \u001b[38;5;241m=\u001b[39m \u001b[38;5;124m\"\u001b[39m\u001b[38;5;124mapple\u001b[39m\u001b[38;5;124m\"\u001b[39m\n\u001b[1;32m----> 2\u001b[0m \u001b[43mchar\u001b[49m\u001b[43m[\u001b[49m\u001b[38;5;241;43m2\u001b[39;49m\u001b[43m]\u001b[49m \u001b[38;5;241m=\u001b[39m \u001b[38;5;124m\"\u001b[39m\u001b[38;5;124mf\u001b[39m\u001b[38;5;124m\"\u001b[39m\n",
      "\u001b[1;31mTypeError\u001b[0m: 'str' object does not support item assignment"
     ]
    }
   ],
   "source": [
    "char = \"apple\"\n",
    "char[2] = \"f\""
   ]
  },
  {
   "cell_type": "code",
   "execution_count": 13,
   "id": "947400ba-fbd1-4d68-beee-c47c4e382ddd",
   "metadata": {},
   "outputs": [
    {
     "data": {
      "text/plain": [
       "[1, 2, 3, 4, 5]"
      ]
     },
     "execution_count": 13,
     "metadata": {},
     "output_type": "execute_result"
    }
   ],
   "source": [
    "lst1 = [1,2,3,4,5]\n",
    "lst1"
   ]
  },
  {
   "cell_type": "code",
   "execution_count": 14,
   "id": "c7b805cd-e73e-4abd-bea2-4e841c02c1ee",
   "metadata": {},
   "outputs": [
    {
     "data": {
      "text/plain": [
       "4"
      ]
     },
     "execution_count": 14,
     "metadata": {},
     "output_type": "execute_result"
    }
   ],
   "source": [
    "lst1[3]"
   ]
  },
  {
   "cell_type": "code",
   "execution_count": 16,
   "id": "be6938b7-f25c-4fb6-a90b-ca82d81bb1fc",
   "metadata": {},
   "outputs": [
    {
     "data": {
      "text/plain": [
       "[1, 2]"
      ]
     },
     "execution_count": 16,
     "metadata": {},
     "output_type": "execute_result"
    }
   ],
   "source": [
    "lst1[:-3]"
   ]
  },
  {
   "cell_type": "code",
   "execution_count": 18,
   "id": "b6abfb37-4a9b-4f3c-ae43-ed990a3d850a",
   "metadata": {},
   "outputs": [
    {
     "data": {
      "text/plain": [
       "[1, 2, 2344, 4, 5]"
      ]
     },
     "execution_count": 18,
     "metadata": {},
     "output_type": "execute_result"
    }
   ],
   "source": [
    "lst1[2] = 2344\n",
    "lst1"
   ]
  },
  {
   "cell_type": "code",
   "execution_count": 20,
   "id": "638b67cf-2ebd-42d3-a8fb-25721fcd377d",
   "metadata": {},
   "outputs": [
    {
     "data": {
      "text/plain": [
       "[1, 2, 'fwef324', 4, 5]"
      ]
     },
     "execution_count": 20,
     "metadata": {},
     "output_type": "execute_result"
    }
   ],
   "source": [
    "lst1[2] = \"fwef324\"\n",
    "lst1"
   ]
  },
  {
   "cell_type": "code",
   "execution_count": 24,
   "id": "7eeb5cba-bffa-4582-9a68-b3150435f3df",
   "metadata": {},
   "outputs": [
    {
     "data": {
      "text/plain": [
       "[1, 2, 'fwef324', 3000, 4444]"
      ]
     },
     "execution_count": 24,
     "metadata": {},
     "output_type": "execute_result"
    }
   ],
   "source": [
    "lst1[-2:] = [3000, 4444]\n",
    "lst1"
   ]
  },
  {
   "cell_type": "code",
   "execution_count": 26,
   "id": "7b3405f4-b1b7-414d-aa15-ee98089d2276",
   "metadata": {},
   "outputs": [
    {
     "data": {
      "text/plain": [
       "[33, 'python', [11, 12, 13], 77]"
      ]
     },
     "execution_count": 26,
     "metadata": {},
     "output_type": "execute_result"
    }
   ],
   "source": [
    "lst2 = [33,\"python\",[11,12,13],77]\n",
    "lst2"
   ]
  },
  {
   "cell_type": "code",
   "execution_count": 27,
   "id": "83961772-64d1-47dc-a3b0-f73f78653610",
   "metadata": {},
   "outputs": [
    {
     "data": {
      "text/plain": [
       "12"
      ]
     },
     "execution_count": 27,
     "metadata": {},
     "output_type": "execute_result"
    }
   ],
   "source": [
    "lst2[2][1]"
   ]
  },
  {
   "cell_type": "code",
   "execution_count": 28,
   "id": "8397c642-df72-41a2-8fd6-dcbab7342939",
   "metadata": {},
   "outputs": [
    {
     "data": {
      "text/plain": [
       "[33, 'python', [11, 200, 13], 77]"
      ]
     },
     "execution_count": 28,
     "metadata": {},
     "output_type": "execute_result"
    }
   ],
   "source": [
    "lst2[2][1] = 200\n",
    "lst2"
   ]
  },
  {
   "cell_type": "code",
   "execution_count": 29,
   "id": "a805a3d1-8139-4fe1-bc60-99583a3e64a8",
   "metadata": {},
   "outputs": [
    {
     "data": {
      "text/plain": [
       "['p', 'y', 't', 'h', 'o', 'n']"
      ]
     },
     "execution_count": 29,
     "metadata": {},
     "output_type": "execute_result"
    }
   ],
   "source": [
    "lst3 = list('python')\n",
    "lst3"
   ]
  },
  {
   "cell_type": "code",
   "execution_count": 32,
   "id": "fbd34cbd-ca1c-4cf4-b65f-0fb2397505a4",
   "metadata": {},
   "outputs": [
    {
     "data": {
      "text/plain": [
       "['o', 'n']"
      ]
     },
     "execution_count": 32,
     "metadata": {},
     "output_type": "execute_result"
    }
   ],
   "source": [
    "# index 超出範圍會報錯, slicing 不管\n",
    "lst3[4:13]"
   ]
  },
  {
   "cell_type": "code",
   "execution_count": 35,
   "id": "e13350bc-5798-4f09-8190-9c6047ffa67e",
   "metadata": {},
   "outputs": [
    {
     "data": {
      "text/plain": [
       "['p', 'y', 't', 'G', 'G', 'h', 'o', 'n']"
      ]
     },
     "execution_count": 35,
     "metadata": {},
     "output_type": "execute_result"
    }
   ],
   "source": [
    "lst3.insert(3,\"G\")\n",
    "lst3"
   ]
  },
  {
   "cell_type": "code",
   "execution_count": 37,
   "id": "48df0f53-a0dc-42b6-993b-bfc6982e9d1c",
   "metadata": {},
   "outputs": [
    {
     "data": {
      "text/plain": [
       "['p', 'y', 't', 'G', 'h', 'o', 'n']"
      ]
     },
     "execution_count": 37,
     "metadata": {},
     "output_type": "execute_result"
    }
   ],
   "source": [
    "# 刪除一個item\n",
    "del lst3[3]\n",
    "lst3"
   ]
  },
  {
   "cell_type": "code",
   "execution_count": 40,
   "id": "75de46aa-2157-4e47-be65-52298004a2f5",
   "metadata": {},
   "outputs": [
    {
     "ename": "NameError",
     "evalue": "name 'lst3' is not defined",
     "output_type": "error",
     "traceback": [
      "\u001b[1;31m---------------------------------------------------------------------------\u001b[0m",
      "\u001b[1;31mNameError\u001b[0m                                 Traceback (most recent call last)",
      "Cell \u001b[1;32mIn [40], line 2\u001b[0m\n\u001b[0;32m      1\u001b[0m \u001b[38;5;66;03m# 刪除整個list\u001b[39;00m\n\u001b[1;32m----> 2\u001b[0m \u001b[38;5;28;01mdel\u001b[39;00m lst3\n\u001b[0;32m      3\u001b[0m lst3\n",
      "\u001b[1;31mNameError\u001b[0m: name 'lst3' is not defined"
     ]
    }
   ],
   "source": [
    "# 刪除整個list\n",
    "del lst3\n",
    "lst3"
   ]
  },
  {
   "cell_type": "code",
   "execution_count": 44,
   "id": "c678df4b-579e-4c35-974f-64250553c95e",
   "metadata": {},
   "outputs": [
    {
     "name": "stdout",
     "output_type": "stream",
     "text": [
      "247547\n"
     ]
    }
   ],
   "source": [
    "if (char:= 12312+235235) < 10000000000:\n",
    "    print(char)"
   ]
  },
  {
   "cell_type": "code",
   "execution_count": 45,
   "id": "2a31bfaf-75d2-4e7c-bd0b-793cfe6ea976",
   "metadata": {},
   "outputs": [],
   "source": [
    "lst4 = [1, 2, 3]\n",
    "lst5 = [1, 2, 3]"
   ]
  },
  {
   "cell_type": "code",
   "execution_count": 49,
   "id": "dcedc4ba-18df-446e-9511-c2d4f57d36bf",
   "metadata": {},
   "outputs": [
    {
     "data": {
      "text/plain": [
       "True"
      ]
     },
     "execution_count": 49,
     "metadata": {},
     "output_type": "execute_result"
    }
   ],
   "source": [
    "lst4 == lst5 # 100% True"
   ]
  },
  {
   "cell_type": "code",
   "execution_count": 48,
   "id": "bea5cbb1-54ad-4de1-8dd7-344d1b27a4f2",
   "metadata": {},
   "outputs": [
    {
     "data": {
      "text/plain": [
       "False"
      ]
     },
     "execution_count": 48,
     "metadata": {},
     "output_type": "execute_result"
    }
   ],
   "source": [
    "lst4 is lst5 # 99% False"
   ]
  },
  {
   "cell_type": "markdown",
   "id": "7c8191cd-bc7b-402e-a3a4-65e2f5c9af2c",
   "metadata": {},
   "source": [
    "## tuple"
   ]
  },
  {
   "cell_type": "code",
   "execution_count": 50,
   "id": "d9fe8baf-2e84-49de-93af-4e46af4282d2",
   "metadata": {},
   "outputs": [],
   "source": [
    "# list 有順序 可以改變\n",
    "# tuple 有順序 不可以改變"
   ]
  },
  {
   "cell_type": "code",
   "execution_count": 51,
   "id": "52df8d35-bdc9-4ebf-b04f-0ba2a4dcf7ee",
   "metadata": {},
   "outputs": [
    {
     "data": {
      "text/plain": [
       "(1, 2, 3, 4, 5)"
      ]
     },
     "execution_count": 51,
     "metadata": {},
     "output_type": "execute_result"
    }
   ],
   "source": [
    "tup1 = (1,2,3,4,5)\n",
    "tup1"
   ]
  },
  {
   "cell_type": "code",
   "execution_count": 52,
   "id": "87562d8d-133c-48ca-95bc-df96952d90b7",
   "metadata": {},
   "outputs": [
    {
     "data": {
      "text/plain": [
       "4"
      ]
     },
     "execution_count": 52,
     "metadata": {},
     "output_type": "execute_result"
    }
   ],
   "source": [
    "tup1[3]"
   ]
  },
  {
   "cell_type": "code",
   "execution_count": 53,
   "id": "6c546264-2eb4-496c-ba49-7d4ffbd58e25",
   "metadata": {},
   "outputs": [
    {
     "data": {
      "text/plain": [
       "(1, 2)"
      ]
     },
     "execution_count": 53,
     "metadata": {},
     "output_type": "execute_result"
    }
   ],
   "source": [
    "tup1[:-3]"
   ]
  },
  {
   "cell_type": "code",
   "execution_count": 56,
   "id": "ec4fae60-d54c-4a95-b726-b41d1f8219b0",
   "metadata": {},
   "outputs": [
    {
     "data": {
      "text/plain": [
       "int"
      ]
     },
     "execution_count": 56,
     "metadata": {},
     "output_type": "execute_result"
    }
   ],
   "source": [
    "# 這是整數\n",
    "tup2=(50)\n",
    "type(tup2)"
   ]
  },
  {
   "cell_type": "code",
   "execution_count": 57,
   "id": "dcb00a54-2360-4fa1-9eb0-077c9477c98d",
   "metadata": {},
   "outputs": [
    {
     "data": {
      "text/plain": [
       "tuple"
      ]
     },
     "execution_count": 57,
     "metadata": {},
     "output_type": "execute_result"
    }
   ],
   "source": [
    "# 這才是tuple\n",
    "tup2=(50,)\n",
    "type(tup2)"
   ]
  },
  {
   "cell_type": "code",
   "execution_count": 58,
   "id": "3a1e7f89-97ce-44fe-91d7-a8db192c8659",
   "metadata": {},
   "outputs": [
    {
     "data": {
      "text/plain": [
       "(2, 4, [22, 44, 55], 'hewf')"
      ]
     },
     "execution_count": 58,
     "metadata": {},
     "output_type": "execute_result"
    }
   ],
   "source": [
    "# tuple 裡面 可以有list\n",
    "tup3 = (2, 4, [22, 44, 55], \"hewf\")\n",
    "tup3"
   ]
  },
  {
   "cell_type": "code",
   "execution_count": 59,
   "id": "f35ecafd-b4a7-4ad4-89af-e2888c70ec34",
   "metadata": {},
   "outputs": [
    {
     "data": {
      "text/plain": [
       "(2, 4, [22, 21341, 55], 'hewf')"
      ]
     },
     "execution_count": 59,
     "metadata": {},
     "output_type": "execute_result"
    }
   ],
   "source": [
    "tup3[2][1] = 21341\n",
    "tup3"
   ]
  },
  {
   "cell_type": "code",
   "execution_count": 60,
   "id": "dc7b1e87-879c-49ef-a7e8-90be0b7e243a",
   "metadata": {},
   "outputs": [
    {
     "data": {
      "text/plain": [
       "[0, 1, 2, 3, 4, 5, 6, 7, 8, 9]"
      ]
     },
     "execution_count": 60,
     "metadata": {},
     "output_type": "execute_result"
    }
   ],
   "source": [
    "lst = list(range(10))\n",
    "lst"
   ]
  },
  {
   "cell_type": "code",
   "execution_count": 61,
   "id": "3a001367-1d53-493b-aaa4-36e0a499c30b",
   "metadata": {},
   "outputs": [
    {
     "data": {
      "text/plain": [
       "[0, 1, 2, 3, 5, 6, 7, 8, 9]"
      ]
     },
     "execution_count": 61,
     "metadata": {},
     "output_type": "execute_result"
    }
   ],
   "source": [
    "lst.remove(4)\n",
    "lst"
   ]
  },
  {
   "cell_type": "code",
   "execution_count": 63,
   "id": "8a62c52d-b431-4ada-82cb-99681c124115",
   "metadata": {},
   "outputs": [
    {
     "ename": "NameError",
     "evalue": "name 'tup4' is not defined",
     "output_type": "error",
     "traceback": [
      "\u001b[1;31m---------------------------------------------------------------------------\u001b[0m",
      "\u001b[1;31mNameError\u001b[0m                                 Traceback (most recent call last)",
      "Cell \u001b[1;32mIn [63], line 2\u001b[0m\n\u001b[0;32m      1\u001b[0m \u001b[38;5;66;03m# tuple不可以改變\u001b[39;00m\n\u001b[1;32m----> 2\u001b[0m \u001b[43mtup4\u001b[49m[\u001b[38;5;241m0\u001b[39m] \u001b[38;5;241m=\u001b[39m \u001b[38;5;241m99\u001b[39m\n",
      "\u001b[1;31mNameError\u001b[0m: name 'tup4' is not defined"
     ]
    }
   ],
   "source": [
    "# tuple不可以改變\n",
    "tup4[0] = 99"
   ]
  },
  {
   "cell_type": "code",
   "execution_count": 65,
   "id": "f9b8f906-ed13-4e73-b09e-ea51dfc2ad23",
   "metadata": {},
   "outputs": [
    {
     "data": {
      "text/plain": [
       "True"
      ]
     },
     "execution_count": 65,
     "metadata": {},
     "output_type": "execute_result"
    }
   ],
   "source": [
    "tup1 = (1, 3, 4)\n",
    "tup2 = (1, 3, 4)\n",
    "tup1 == tup2"
   ]
  },
  {
   "cell_type": "code",
   "execution_count": 66,
   "id": "21773854-4cee-4ee3-9c60-1bf6a7210f3c",
   "metadata": {},
   "outputs": [
    {
     "data": {
      "text/plain": [
       "False"
      ]
     },
     "execution_count": 66,
     "metadata": {},
     "output_type": "execute_result"
    }
   ],
   "source": [
    "tup1 = (1, 3, 4)\n",
    "tup2 = (1, 3, 4)\n",
    "tup1 is tup2"
   ]
  },
  {
   "cell_type": "markdown",
   "id": "1016bd62-beb6-46bc-b51b-a2891ffaa603",
   "metadata": {},
   "source": [
    "## List comprehension"
   ]
  },
  {
   "cell_type": "code",
   "execution_count": 74,
   "id": "5c99776e-2c18-4c35-be23-6b9233a04792",
   "metadata": {},
   "outputs": [
    {
     "data": {
      "text/plain": [
       "[0, 1, 4, 9, 16, 25, 36, 49, 64, 81, 100, 121, 144, 169, 196]"
      ]
     },
     "execution_count": 74,
     "metadata": {},
     "output_type": "execute_result"
    }
   ],
   "source": [
    "S = [x ** 2 for x in range(15)]\n",
    "S"
   ]
  },
  {
   "cell_type": "code",
   "execution_count": 75,
   "id": "b58d73c7-79c1-4676-a379-600258ecb5aa",
   "metadata": {},
   "outputs": [
    {
     "data": {
      "text/plain": [
       "[1, 2, 4, 8, 16, 32, 64, 128, 256, 512, 1024]"
      ]
     },
     "execution_count": 75,
     "metadata": {},
     "output_type": "execute_result"
    }
   ],
   "source": [
    "V = [2 ** n for n in range(11)]\n",
    "V"
   ]
  },
  {
   "cell_type": "code",
   "execution_count": 79,
   "id": "31f559d0-b0db-4b82-abf6-2703d8054b09",
   "metadata": {},
   "outputs": [
    {
     "data": {
      "text/plain": [
       "[0, 4, 16, 36, 64, 100, 144, 196]"
      ]
     },
     "execution_count": 79,
     "metadata": {},
     "output_type": "execute_result"
    }
   ],
   "source": [
    "M = [x for x in S if x%2 == 0]\n",
    "M"
   ]
  },
  {
   "cell_type": "code",
   "execution_count": 82,
   "id": "177f711a-b5d1-42a6-904d-558334dc2ba4",
   "metadata": {},
   "outputs": [
    {
     "data": {
      "text/plain": [
       "[1, 8, 27]"
      ]
     },
     "execution_count": 82,
     "metadata": {},
     "output_type": "execute_result"
    }
   ],
   "source": [
    "N = [x**3 for x in [1,2,3]]\n",
    "N"
   ]
  },
  {
   "cell_type": "code",
   "execution_count": null,
   "id": "272911e1-0b2b-4ebc-a033-37a035be57ed",
   "metadata": {},
   "outputs": [],
   "source": []
  },
  {
   "cell_type": "code",
   "execution_count": null,
   "id": "37683948-8d1d-4d5c-9c78-5f206a40bd29",
   "metadata": {},
   "outputs": [],
   "source": []
  },
  {
   "cell_type": "code",
   "execution_count": null,
   "id": "a7d66a2b-6076-4037-bfce-c826841b2f45",
   "metadata": {},
   "outputs": [],
   "source": []
  },
  {
   "cell_type": "code",
   "execution_count": null,
   "id": "4a6d7569-6598-437a-a0e6-6ddb4866dfae",
   "metadata": {},
   "outputs": [],
   "source": []
  }
 ],
 "metadata": {
  "kernelspec": {
   "display_name": "Python 3 (ipykernel)",
   "language": "python",
   "name": "python3"
  },
  "language_info": {
   "codemirror_mode": {
    "name": "ipython",
    "version": 3
   },
   "file_extension": ".py",
   "mimetype": "text/x-python",
   "name": "python",
   "nbconvert_exporter": "python",
   "pygments_lexer": "ipython3",
   "version": "3.10.7"
  }
 },
 "nbformat": 4,
 "nbformat_minor": 5
}
