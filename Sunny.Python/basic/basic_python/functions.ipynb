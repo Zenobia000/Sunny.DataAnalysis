{
 "cells": [
  {
   "cell_type": "markdown",
   "id": "0850f6d2",
   "metadata": {},
   "source": [
    "# function"
   ]
  },
  {
   "cell_type": "code",
   "execution_count": 5,
   "id": "4b41ee0e",
   "metadata": {
    "scrolled": false
   },
   "outputs": [
    {
     "name": "stdout",
     "output_type": "stream",
     "text": [
      "quack\n",
      "quack\n",
      "quack\n",
      "quack\n",
      "底線 _ 就是暫存區\n",
      "quack\n",
      "quack\n",
      "quack\n"
     ]
    }
   ],
   "source": [
    "# 使用\"%run\" magic 來執行程式\n",
    "%run ex51_func_def1.py"
   ]
  },
  {
   "cell_type": "code",
   "execution_count": 2,
   "id": "816750ea",
   "metadata": {
    "scrolled": true
   },
   "outputs": [
    {
     "name": "stdout",
     "output_type": "stream",
     "text": [
      "quack\n"
     ]
    }
   ],
   "source": [
    "# 一但使用 %run 執行程式, 該程式已經在notebook的cache裡面\n",
    "# 可以直接呼叫該程式內定義的function\n",
    "make_a_sound()"
   ]
  },
  {
   "cell_type": "markdown",
   "id": "804cc5a3",
   "metadata": {},
   "source": [
    "### docString 是給 user 看的\n",
    "### 註解是給程式設計師看的"
   ]
  },
  {
   "cell_type": "code",
   "execution_count": 3,
   "id": "766625a3",
   "metadata": {},
   "outputs": [],
   "source": [
    "# 顯示docString\n",
    "make_a_sound?"
   ]
  },
  {
   "cell_type": "code",
   "execution_count": 6,
   "id": "c58c638d",
   "metadata": {},
   "outputs": [
    {
     "name": "stdout",
     "output_type": "stream",
     "text": [
      "Hello Python\n",
      "Python Programming\n",
      "Total : 55\n",
      "Total : 90\n"
     ]
    }
   ],
   "source": [
    "# Function definition\n",
    "def printme(pstr):\n",
    "    \"\"\"This function print a string\"\"\"\n",
    "    print(pstr)\n",
    "\n",
    "def sum_nums(n1, n2):\n",
    "    \"\"\"This function return sum of two numbers\"\"\"\n",
    "    return n1+n2\n",
    "    \n",
    "# Call function\n",
    "printme('Hello Python')\n",
    "printme('Python Programming')\n",
    "\n",
    "total = sum_nums(35,20)\n",
    "print('Total :',total)\n",
    "\n",
    "print('Total :',sum_nums(40,50))"
   ]
  },
  {
   "cell_type": "code",
   "execution_count": 13,
   "id": "52e7041b",
   "metadata": {},
   "outputs": [
    {
     "name": "stdout",
     "output_type": "stream",
     "text": [
      "In function, before change: 20\n",
      "In function, after change: 50\n",
      "Outside function: 20\n"
     ]
    }
   ],
   "source": [
    "# Function definition\n",
    "def changeme(myvar1):\n",
    "    print('In function, before change:', myvar1)\n",
    "    myvar1 = 50\n",
    "    print('In function, after change:', myvar1)\n",
    "    \n",
    "    \n",
    "# main    \n",
    "# Call function\n",
    "myvar = 20\n",
    "changeme(myvar)\n",
    "print('Outside function:', myvar)\n"
   ]
  },
  {
   "cell_type": "code",
   "execution_count": 8,
   "id": "a69b973c",
   "metadata": {
    "scrolled": true
   },
   "outputs": [
    {
     "name": "stdout",
     "output_type": "stream",
     "text": [
      "In function, before change: [10, 20, 30]\n",
      "In function, after change: [10, 20, 50]\n",
      "Outside function: [10, 20, 50]\n"
     ]
    }
   ],
   "source": [
    "# Function definition\n",
    "def changeme(mylist):\n",
    "    print('In function, before change:', mylist)\n",
    "    mylist[2] = 50\n",
    "    print('In function, after change:', mylist)\n",
    "\n",
    "# Call function\n",
    "mylist = [10,20,30]\n",
    "changeme(mylist) # call by value, 把\n",
    "print('Outside function:',mylist)"
   ]
  },
  {
   "cell_type": "markdown",
   "id": "eef1fbe1",
   "metadata": {},
   "source": [
    "argument = 實際參數\n",
    "parameter = 型式參數"
   ]
  },
  {
   "cell_type": "code",
   "execution_count": 14,
   "id": "8edb8f66",
   "metadata": {},
   "outputs": [
    {
     "name": "stdout",
     "output_type": "stream",
     "text": [
      "Name: Calvin\n",
      "Average 73.33333333333333\n",
      "Name: Calvin\n",
      "Average 0\n"
     ]
    }
   ],
   "source": [
    "# Function definition \n",
    "def printinfo(name, score=[]):\n",
    "    \n",
    "    print('Name:', name)\n",
    "    avg = sum(score)/len(score) if len(score) > 0 else 0\n",
    "    print('Average', avg)\n",
    "\n",
    "# MAIN\n",
    "# Call function\n",
    "printinfo(score=[50,70,100], name='Calvin')   # \n",
    "printinfo(name='Calvin')   # "
   ]
  },
  {
   "cell_type": "code",
   "execution_count": null,
   "id": "77a51350",
   "metadata": {},
   "outputs": [],
   "source": [
    "# 如果list要給預設值，請用None，可以節省記憶體與避免副作用(Side-effect)\n",
    "def myfunc(name, score=None):\n",
    "    pass"
   ]
  },
  {
   "cell_type": "code",
   "execution_count": 20,
   "id": "80bd8428",
   "metadata": {},
   "outputs": [
    {
     "name": "stdout",
     "output_type": "stream",
     "text": [
      "Output is: \n",
      "first: 10\n",
      "\n",
      "Output is: \n",
      "first: 70\n",
      "60\n",
      "50\n",
      "\n",
      "Output is: \n",
      "first: 20\n",
      "{'aa': 1, 'b': 2, 'c': 3}\n",
      "\n",
      "Output is: \n",
      "first: 20\n",
      "aa\n",
      "b\n",
      "c\n",
      "\n"
     ]
    }
   ],
   "source": [
    "# Function definition\n",
    "def printinfo(arg1, *vartuple):\n",
    "    print('Output is: ')\n",
    "    print('first:',arg1)\n",
    "    for var in vartuple:\n",
    "        print(var)\n",
    "    print()\n",
    "    \n",
    "# MAIN\n",
    "# Call function\n",
    "printinfo(10) # 10 first \n",
    "printinfo(70, 60, 50) # 70 first, 60,50 *vartuple\n",
    "\n",
    "mylist={\"aa\":1,\"b\":2,\"c\":3}\n",
    "#mylist = {\"a\", \"v\", \"xxcccc\"}\n",
    "printinfo(20, mylist)\n",
    "printinfo(20, *mylist) # unpack，把一份資料切成很多份資料"
   ]
  },
  {
   "cell_type": "code",
   "execution_count": 21,
   "id": "9b00b9fe",
   "metadata": {},
   "outputs": [
    {
     "ename": "TypeError",
     "evalue": "rect_area() takes 0 positional arguments but 1 positional argument (and 1 keyword-only argument) were given",
     "output_type": "error",
     "traceback": [
      "\u001b[1;31m---------------------------------------------------------------------------\u001b[0m",
      "\u001b[1;31mTypeError\u001b[0m                                 Traceback (most recent call last)",
      "Cell \u001b[1;32mIn [21], line 22\u001b[0m\n\u001b[0;32m     19\u001b[0m \u001b[38;5;66;03m#tri_area(12,h=5) # error\u001b[39;00m\n\u001b[0;32m     21\u001b[0m rect_area(width\u001b[38;5;241m=\u001b[39m\u001b[38;5;241m100\u001b[39m, length\u001b[38;5;241m=\u001b[39m\u001b[38;5;241m150\u001b[39m)\n\u001b[1;32m---> 22\u001b[0m \u001b[43mrect_area\u001b[49m\u001b[43m(\u001b[49m\u001b[38;5;241;43m100\u001b[39;49m\u001b[43m,\u001b[49m\u001b[43m \u001b[49m\u001b[43mlength\u001b[49m\u001b[38;5;241;43m=\u001b[39;49m\u001b[38;5;241;43m150\u001b[39;49m\u001b[43m)\u001b[49m\n\u001b[0;32m     23\u001b[0m BMI(\u001b[38;5;241m65\u001b[39m, height\u001b[38;5;241m=\u001b[39m\u001b[38;5;241m170\u001b[39m)\n",
      "\u001b[1;31mTypeError\u001b[0m: rect_area() takes 0 positional arguments but 1 positional argument (and 1 keyword-only argument) were given"
     ]
    }
   ],
   "source": [
    "# Positional only\n",
    "# / 左邊的參數視為 positional only \n",
    "def tri_area(b,h,/):\n",
    "    return b*h/2.\n",
    "\n",
    "# Keyword only\n",
    "# * 右邊的參數視為 keyword only\n",
    "def rect_area(*,length,width):\n",
    "    return length*width\n",
    "\n",
    "# Positional or Keyword\n",
    "# 正常的function\n",
    "def BMI(weight,height):\n",
    "    return weight/(height/100)**2\n",
    "\n",
    "\n",
    "# MAIN\n",
    "tri_area(12,5) # ok\n",
    "#tri_area(12,h=5) # error\n",
    "\n",
    "rect_area(width=100, length=150)\n",
    "rect_area(100, length=150)\n",
    "BMI(65, height=170)"
   ]
  },
  {
   "cell_type": "code",
   "execution_count": 23,
   "id": "c42e73f6",
   "metadata": {},
   "outputs": [
    {
     "name": "stdout",
     "output_type": "stream",
     "text": [
      "In function local total : 30\n",
      "Outside function global total : 0\n"
     ]
    }
   ],
   "source": [
    "# Using global variable\n",
    "total = 0   # This is global variable\n",
    "\n",
    "# Function definition\n",
    "def sum_data(arg1, arg2):\n",
    "    total = arg1 + arg2; # total is local variable, arg1/arg2 宣告給 total\n",
    "    # print 30\n",
    "    print('In function local total :', total)\n",
    "\n",
    "# MAIN    \n",
    "# Call function\n",
    "sum_data(10, 20)\n",
    "\n",
    "# print 0\n",
    "print('Outside function global total :', total)"
   ]
  },
  {
   "cell_type": "code",
   "execution_count": 24,
   "id": "d26f0a03",
   "metadata": {},
   "outputs": [
    {
     "name": "stdout",
     "output_type": "stream",
     "text": [
      "42\n",
      "42\n",
      "spam\n"
     ]
    }
   ],
   "source": [
    "def spam():\n",
    "    global eggs\n",
    "    eggs = 'spam'    # this is the global\n",
    "    \n",
    "def bacon():\n",
    "    eggs = 'bacon'   # this is a local\n",
    "    \n",
    "def ham():\n",
    "    print(eggs)  # this is the global\n",
    "\n",
    "# MAIN\n",
    "eggs = 42        # this is the global\n",
    "\n",
    "ham()\n",
    "\n",
    "bacon()\n",
    "print(eggs)      # 42\n",
    "\n",
    "spam()\n",
    "print(eggs)      # spam"
   ]
  },
  {
   "cell_type": "code",
   "execution_count": 25,
   "id": "694000ab",
   "metadata": {},
   "outputs": [
    {
     "name": "stdout",
     "output_type": "stream",
     "text": [
      "0 1 2 3 4 5 6 7 8 9 \n",
      "data is 9\n",
      "data now is myfunc\n"
     ]
    }
   ],
   "source": [
    "def myfunc():\n",
    "    global data\n",
    "    data='myfunc'\n",
    "    \n",
    "# MAIN\n",
    "for data in range(10):\n",
    "    print(data,end=' ')\n",
    "print()\n",
    "\n",
    "print(f'data is {data}') #9 data 是全域變數\n",
    "    \n",
    "# Call function\n",
    "myfunc()\n",
    "\n",
    "print(f'data now is {data}') #myfunc"
   ]
  },
  {
   "cell_type": "code",
   "execution_count": 26,
   "id": "c52a6b70",
   "metadata": {},
   "outputs": [
    {
     "name": "stdout",
     "output_type": "stream",
     "text": [
      "operate_on(16,20,sum_data) = 36\n",
      "operate_on(10,40,Lambda_function) = -30\n"
     ]
    }
   ],
   "source": [
    "# function: return sum of two values\n",
    "def sum_data(a, b):\n",
    "    return a+b\n",
    "    \n",
    "# function: using function as parameter    \n",
    "def operate_on(x, y, func):\n",
    "    return func(x, y)\n",
    "\n",
    "# MAIN\n",
    "r = operate_on(16,20,sum_data)   # call function\n",
    "print('operate_on(16,20,sum_data) =',r)\n",
    "          \n",
    "r = operate_on(10,40,lambda a,b:a-b)   # with anonymous function\n",
    "print('operate_on(10,40,Lambda_function) =', r)"
   ]
  },
  {
   "cell_type": "code",
   "execution_count": 27,
   "id": "009a101b",
   "metadata": {},
   "outputs": [
    {
     "name": "stdout",
     "output_type": "stream",
     "text": [
      "support\n",
      "Hello : Rose\n"
     ]
    }
   ],
   "source": [
    "import support as up\n",
    "\n",
    "\n",
    "# 一個 .py的程式就是一個 modules\n",
    "# call defined function \n",
    "up.print_func('Rose')\n",
    "\n",
    "\n",
    "# print(__name__)"
   ]
  },
  {
   "cell_type": "code",
   "execution_count": null,
   "id": "6e6bfddd",
   "metadata": {},
   "outputs": [],
   "source": [
    "import numpy as np\n",
    "import pandas as pd\n",
    "import seaborn as sb"
   ]
  },
  {
   "cell_type": "code",
   "execution_count": 28,
   "id": "6e021b24",
   "metadata": {},
   "outputs": [
    {
     "name": "stdout",
     "output_type": "stream",
     "text": [
      "support\n",
      "Hello : Rose\n"
     ]
    }
   ],
   "source": [
    "import support as up\n",
    "from support import print_func # 不建議這樣寫 會複寫同名func\n",
    "\n",
    "# 一個 .py的程式就是一個 modules\n",
    "# call defined function \n",
    "#up.print_func('Rose')\n",
    "print_func(\"Rose\")\n",
    "\n",
    "# print(__name__)"
   ]
  },
  {
   "cell_type": "code",
   "execution_count": null,
   "id": "d7762d91",
   "metadata": {},
   "outputs": [],
   "source": []
  },
  {
   "cell_type": "code",
   "execution_count": null,
   "id": "4579f354",
   "metadata": {},
   "outputs": [],
   "source": []
  },
  {
   "cell_type": "code",
   "execution_count": null,
   "id": "ac43c9fd",
   "metadata": {},
   "outputs": [],
   "source": []
  },
  {
   "cell_type": "code",
   "execution_count": null,
   "id": "6dac1080",
   "metadata": {},
   "outputs": [],
   "source": []
  },
  {
   "cell_type": "code",
   "execution_count": null,
   "id": "dc659a7f",
   "metadata": {},
   "outputs": [],
   "source": []
  },
  {
   "cell_type": "code",
   "execution_count": null,
   "id": "f1066097",
   "metadata": {},
   "outputs": [],
   "source": []
  },
  {
   "cell_type": "code",
   "execution_count": null,
   "id": "895106fe",
   "metadata": {},
   "outputs": [],
   "source": []
  },
  {
   "cell_type": "code",
   "execution_count": null,
   "id": "9ac16d9e",
   "metadata": {},
   "outputs": [],
   "source": []
  },
  {
   "cell_type": "code",
   "execution_count": null,
   "id": "2c8bcc6b",
   "metadata": {},
   "outputs": [],
   "source": []
  },
  {
   "cell_type": "code",
   "execution_count": null,
   "id": "2842143b",
   "metadata": {},
   "outputs": [],
   "source": []
  },
  {
   "cell_type": "code",
   "execution_count": null,
   "id": "2f482554",
   "metadata": {},
   "outputs": [],
   "source": []
  },
  {
   "cell_type": "code",
   "execution_count": null,
   "id": "565aef4d",
   "metadata": {},
   "outputs": [],
   "source": []
  }
 ],
 "metadata": {
  "kernelspec": {
   "display_name": "Python 3 (ipykernel)",
   "language": "python",
   "name": "python3"
  },
  "language_info": {
   "codemirror_mode": {
    "name": "ipython",
    "version": 3
   },
   "file_extension": ".py",
   "mimetype": "text/x-python",
   "name": "python",
   "nbconvert_exporter": "python",
   "pygments_lexer": "ipython3",
   "version": "3.10.7"
  }
 },
 "nbformat": 4,
 "nbformat_minor": 5
}
