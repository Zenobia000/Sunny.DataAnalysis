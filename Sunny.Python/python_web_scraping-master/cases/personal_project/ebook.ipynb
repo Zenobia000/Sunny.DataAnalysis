{
 "cells": [
  {
   "cell_type": "code",
   "execution_count": null,
   "metadata": {},
   "outputs": [],
   "source": [
    "# \n",
    "\n",
    "from bs4 import BeautifulSoup as bs\n",
    "import requests as req\n",
    "import re\n",
    "\n",
    "url = \"[https://www.gutenberg.org/browse/languages/zh](https://www.gutenberg.org/browse/languages/zh)\"\n",
    "res = req.get(url)\n",
    "soup = bs(res.text,'lxml')\n",
    "\n",
    "list_booksurl = []\n",
    "bookName = []\n",
    "regex = r\"/\\d+\"\n",
    "regex_bookname = r\"\\r\"\n",
    "\n",
    "for a in soup.select('li.pgdbetext a'):\n",
    "# if a.text.isalpha():\n",
    "if '\\u4e00' <= a.get_text() <= '\\u9fa5':\n",
    "fileName = re.search(regex, a['href'])\n",
    "list_booksurl.append('[https://www.gutenberg.org/files'+(fileName.group())*2+'-0.txt](https://www.gutenberg.org/files'+(fileName.group())*2+'-0.txt)')\n",
    "bookName_after_regex = re.sub(regex_bookname, \" \", a.get_text())\n",
    "bookName.append(bookName_after_regex)\n",
    "\n",
    "booksurl_text = []\n",
    "regex01 = r'[^a-zA-Z\\s\\d*#,.\\-:\\]\\[<>\\/\\!\\\"\\(\\)\\@\\$\\'\\%]+'\n",
    "# regex01 = r\"^[a-zA-Z][a-zA-Z]+.+\"\n",
    "# ^[a-zA-Z][a-zA-Z]+.+\n",
    "count = 0\n",
    "\n",
    "try:\n",
    "    for link in list_booksurl[0:250]:\n",
    "        res = req.get(link)\n",
    "        res.encoding = 'UTF-8'\n",
    "        soup = bs(res.text,'lxml')\n",
    "        text = re.findall(regex01, soup.text)\n",
    "        textj = '\\n'.join(text)\n",
    "        path = f'novel/{bookName[count]}.txt'\n",
    "        f = open(path, 'w', encoding = 'UTF-8')\n",
    "        f.write(f'書名：{list_bookName[count]}'+'\\n\\n'+'--'*50 + '\\n' +textj)\n",
    "        f.close()\n",
    "        count += 1\n",
    "        print(f\"書名：{list_bookName[count]}, 第{count}本, 已下載完成\")\n",
    "except:\n",
    "#     print(f\"書名：{bookName[count]}, 第{count}本, 發生錯誤!!下載失敗\")\n",
    "    pass"
   ]
  }
 ],
 "metadata": {
  "language_info": {
   "name": "python"
  },
  "orig_nbformat": 4
 },
 "nbformat": 4,
 "nbformat_minor": 2
}
